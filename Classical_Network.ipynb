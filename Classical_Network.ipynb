{
 "cells": [
  {
   "cell_type": "code",
   "execution_count": 24,
   "metadata": {},
   "outputs": [],
   "source": [
    "# Importing necessary libraries for training and visualization\n",
    "import numpy as np\n",
    "import torch\n",
    "import torchvision\n",
    "from time import time\n",
    "from torchvision import datasets, transforms\n",
    "from torch import nn, optim\n",
    "from torch.utils.data.sampler import SubsetRandomSampler\n",
    "from torch.autograd import Variable\n",
    "import torch.nn.functional as F\n",
    "from torch.utils.data import DataLoader\n",
    "\n",
    "\n",
    "%matplotlib inline\n",
    "import matplotlib.pyplot as plt\n",
    "from tqdm.notebook import tqdm, trange"
   ]
  },
  {
   "cell_type": "code",
   "execution_count": 25,
   "metadata": {},
   "outputs": [],
   "source": [
    "n_samples = 100\n",
    "\n",
    "train_set = datasets.MNIST(root='./data', train=True, download=True,\n",
    "                         transform=transforms.Compose([transforms.ToTensor()]))\n",
    "\n",
    "\n",
    "idx = np.append(np.where(train_set.targets == 0)[0][:n_samples], \n",
    "                np.where(train_set.targets == 1)[0][:n_samples])\n",
    "\n",
    "train_set.data = train_set.data[idx]\n",
    "train_set.targets = train_set.targets[idx]\n",
    "\n",
    "train_loader = torch.utils.data.DataLoader(train_set, batch_size=1, shuffle=True)"
   ]
  },
  {
   "cell_type": "code",
   "execution_count": 26,
   "metadata": {},
   "outputs": [],
   "source": [
    "n_samples = 50\n",
    "\n",
    "test_set = datasets.MNIST(root='./data', train=False, download=True,\n",
    "                        transform=transforms.Compose([transforms.ToTensor()]))\n",
    "\n",
    "idx = np.append(np.where(test_set.targets == 0)[0][:n_samples], \n",
    "                np.where(test_set.targets == 1)[0][:n_samples])\n",
    "\n",
    "test_set.data = test_set.data[idx]\n",
    "test_set.targets = test_set.targets[idx]\n",
    "\n",
    "test_loader = torch.utils.data.DataLoader(test_set, batch_size=1, shuffle=True)"
   ]
  },
  {
   "cell_type": "code",
   "execution_count": 27,
   "metadata": {},
   "outputs": [],
   "source": [
    "mean = (0.5,)\n",
    "std_dev = (0.5,)\n",
    "\n",
    "normalization_transforms = [transforms.ToTensor(), \n",
    "                            transforms.Normalize(mean, std_dev)]\n",
    "\n",
    "\n",
    "transform = transforms.Compose(normalization_transforms)"
   ]
  },
  {
   "cell_type": "code",
   "execution_count": 28,
   "metadata": {},
   "outputs": [],
   "source": [
    "class Net(nn.Module):\n",
    "    def __init__(self):\n",
    "        super(Net, self).__init__()\n",
    "        self.conv1 = nn.Conv2d(1, 6, kernel_size=5)\n",
    "        self.conv2 = nn.Conv2d(6, 16, kernel_size=5)\n",
    "        self.dropout = nn.Dropout2d()\n",
    "        self.fc1=nn.Linear\n",
    "        self.fc1 = nn.Linear(256, 64)\n",
    "        \n",
    "        self.fc2 = nn.Linear(64, 10)\n",
    "    \n",
    "\n",
    "    def forward(self, x):\n",
    "        x = F.relu(self.conv1(x))\n",
    "        x = F.max_pool2d(x, 2)\n",
    "        x = F.relu(self.conv2(x))\n",
    "        x = F.max_pool2d(x, 2)\n",
    "        #print(x.shape)\n",
    "        x = self.dropout(x)\n",
    "        x = x.view(1, -1)\n",
    "      \n",
    "        x = F.relu(self.fc1(x))\n",
    "        x = self.fc2(x)\n",
    "    \n",
    "        return x"
   ]
  },
  {
   "cell_type": "code",
   "execution_count": 29,
   "metadata": {},
   "outputs": [],
   "source": [
    "net=Net()\n",
    "criterion = nn.CrossEntropyLoss()\n",
    "optimizer = torch.optim.Adam(net.parameters(), lr=0.001)"
   ]
  },
  {
   "cell_type": "code",
   "execution_count": 30,
   "metadata": {},
   "outputs": [
    {
     "output_type": "display_data",
     "data": {
      "text/plain": "HBox(children=(FloatProgress(value=0.0, layout=Layout(flex='2'), max=200.0), HTML(value='')), layout=Layout(di…",
      "application/vnd.jupyter.widget-view+json": {
       "version_major": 2,
       "version_minor": 0,
       "model_id": "f78ec66f30b14f6293b1e84f066cc8c2"
      }
     },
     "metadata": {}
    },
    {
     "output_type": "stream",
     "name": "stdout",
     "text": [
      "\n"
     ]
    },
    {
     "output_type": "display_data",
     "data": {
      "text/plain": "HBox(children=(FloatProgress(value=0.0, layout=Layout(flex='2'), max=200.0), HTML(value='')), layout=Layout(di…",
      "application/vnd.jupyter.widget-view+json": {
       "version_major": 2,
       "version_minor": 0,
       "model_id": "02f6ddcf38c145fe9baecb16eaf2dc52"
      }
     },
     "metadata": {}
    },
    {
     "output_type": "stream",
     "name": "stdout",
     "text": [
      "\n"
     ]
    },
    {
     "output_type": "display_data",
     "data": {
      "text/plain": "HBox(children=(FloatProgress(value=0.0, layout=Layout(flex='2'), max=200.0), HTML(value='')), layout=Layout(di…",
      "application/vnd.jupyter.widget-view+json": {
       "version_major": 2,
       "version_minor": 0,
       "model_id": "acf4416fb4f246b7bc5e7cc795fb5523"
      }
     },
     "metadata": {}
    },
    {
     "output_type": "stream",
     "name": "stdout",
     "text": [
      "\n"
     ]
    },
    {
     "output_type": "display_data",
     "data": {
      "text/plain": "HBox(children=(FloatProgress(value=0.0, layout=Layout(flex='2'), max=200.0), HTML(value='')), layout=Layout(di…",
      "application/vnd.jupyter.widget-view+json": {
       "version_major": 2,
       "version_minor": 0,
       "model_id": "01c1cad889c24a599bcef45004224da8"
      }
     },
     "metadata": {}
    },
    {
     "output_type": "stream",
     "name": "stdout",
     "text": [
      "\n"
     ]
    },
    {
     "output_type": "display_data",
     "data": {
      "text/plain": "HBox(children=(FloatProgress(value=0.0, layout=Layout(flex='2'), max=200.0), HTML(value='')), layout=Layout(di…",
      "application/vnd.jupyter.widget-view+json": {
       "version_major": 2,
       "version_minor": 0,
       "model_id": "f39dcb6cdee44ddabbbb0791ed6c904e"
      }
     },
     "metadata": {}
    },
    {
     "output_type": "stream",
     "name": "stdout",
     "text": [
      "\n"
     ]
    },
    {
     "output_type": "display_data",
     "data": {
      "text/plain": "HBox(children=(FloatProgress(value=0.0, layout=Layout(flex='2'), max=200.0), HTML(value='')), layout=Layout(di…",
      "application/vnd.jupyter.widget-view+json": {
       "version_major": 2,
       "version_minor": 0,
       "model_id": "79792fa5584244fcbe6c64cc4d9195a7"
      }
     },
     "metadata": {}
    },
    {
     "output_type": "stream",
     "name": "stdout",
     "text": [
      "\n"
     ]
    },
    {
     "output_type": "display_data",
     "data": {
      "text/plain": "HBox(children=(FloatProgress(value=0.0, layout=Layout(flex='2'), max=200.0), HTML(value='')), layout=Layout(di…",
      "application/vnd.jupyter.widget-view+json": {
       "version_major": 2,
       "version_minor": 0,
       "model_id": "ef584146eede4e88a7bb6d2432805b25"
      }
     },
     "metadata": {}
    },
    {
     "output_type": "stream",
     "name": "stdout",
     "text": [
      "\n"
     ]
    },
    {
     "output_type": "display_data",
     "data": {
      "text/plain": "HBox(children=(FloatProgress(value=0.0, layout=Layout(flex='2'), max=200.0), HTML(value='')), layout=Layout(di…",
      "application/vnd.jupyter.widget-view+json": {
       "version_major": 2,
       "version_minor": 0,
       "model_id": "d9024740671548419470e24f9c8e413b"
      }
     },
     "metadata": {}
    },
    {
     "output_type": "stream",
     "name": "stdout",
     "text": [
      "\n"
     ]
    },
    {
     "output_type": "display_data",
     "data": {
      "text/plain": "HBox(children=(FloatProgress(value=0.0, layout=Layout(flex='2'), max=200.0), HTML(value='')), layout=Layout(di…",
      "application/vnd.jupyter.widget-view+json": {
       "version_major": 2,
       "version_minor": 0,
       "model_id": "64a1ecfb9be44a26a7a4a69cc5f5d921"
      }
     },
     "metadata": {}
    },
    {
     "output_type": "stream",
     "name": "stdout",
     "text": [
      "\n"
     ]
    },
    {
     "output_type": "display_data",
     "data": {
      "text/plain": "HBox(children=(FloatProgress(value=0.0, layout=Layout(flex='2'), max=200.0), HTML(value='')), layout=Layout(di…",
      "application/vnd.jupyter.widget-view+json": {
       "version_major": 2,
       "version_minor": 0,
       "model_id": "028b01753c674d95b255f8da874ce3b7"
      }
     },
     "metadata": {}
    },
    {
     "output_type": "stream",
     "name": "stdout",
     "text": [
      "\n"
     ]
    },
    {
     "output_type": "display_data",
     "data": {
      "text/plain": "HBox(children=(FloatProgress(value=0.0, layout=Layout(flex='2'), max=200.0), HTML(value='')), layout=Layout(di…",
      "application/vnd.jupyter.widget-view+json": {
       "version_major": 2,
       "version_minor": 0,
       "model_id": "40b12613b55345d9aa8cafd95fba47ee"
      }
     },
     "metadata": {}
    },
    {
     "output_type": "stream",
     "name": "stdout",
     "text": [
      "\n"
     ]
    },
    {
     "output_type": "display_data",
     "data": {
      "text/plain": "HBox(children=(FloatProgress(value=0.0, layout=Layout(flex='2'), max=200.0), HTML(value='')), layout=Layout(di…",
      "application/vnd.jupyter.widget-view+json": {
       "version_major": 2,
       "version_minor": 0,
       "model_id": "33723d05bd4b47f782c63426efd6fe95"
      }
     },
     "metadata": {}
    },
    {
     "output_type": "stream",
     "name": "stdout",
     "text": [
      "\n"
     ]
    },
    {
     "output_type": "display_data",
     "data": {
      "text/plain": "HBox(children=(FloatProgress(value=0.0, layout=Layout(flex='2'), max=200.0), HTML(value='')), layout=Layout(di…",
      "application/vnd.jupyter.widget-view+json": {
       "version_major": 2,
       "version_minor": 0,
       "model_id": "9f5ac279a9f9410bba4b91003a4b15e7"
      }
     },
     "metadata": {}
    },
    {
     "output_type": "stream",
     "name": "stdout",
     "text": [
      "\n"
     ]
    },
    {
     "output_type": "display_data",
     "data": {
      "text/plain": "HBox(children=(FloatProgress(value=0.0, layout=Layout(flex='2'), max=200.0), HTML(value='')), layout=Layout(di…",
      "application/vnd.jupyter.widget-view+json": {
       "version_major": 2,
       "version_minor": 0,
       "model_id": "8170bd46c06447adb909c749613efceb"
      }
     },
     "metadata": {}
    },
    {
     "output_type": "stream",
     "name": "stdout",
     "text": [
      "\n"
     ]
    },
    {
     "output_type": "display_data",
     "data": {
      "text/plain": "HBox(children=(FloatProgress(value=0.0, layout=Layout(flex='2'), max=200.0), HTML(value='')), layout=Layout(di…",
      "application/vnd.jupyter.widget-view+json": {
       "version_major": 2,
       "version_minor": 0,
       "model_id": "014a4b4742944cdeb7bc5e286e6590ea"
      }
     },
     "metadata": {}
    },
    {
     "output_type": "stream",
     "name": "stdout",
     "text": [
      "\n"
     ]
    },
    {
     "output_type": "display_data",
     "data": {
      "text/plain": "HBox(children=(FloatProgress(value=0.0, layout=Layout(flex='2'), max=200.0), HTML(value='')), layout=Layout(di…",
      "application/vnd.jupyter.widget-view+json": {
       "version_major": 2,
       "version_minor": 0,
       "model_id": "f7d5d36d597d43c4bb04fff4d02c13ea"
      }
     },
     "metadata": {}
    },
    {
     "output_type": "stream",
     "name": "stdout",
     "text": [
      "\n"
     ]
    },
    {
     "output_type": "display_data",
     "data": {
      "text/plain": "HBox(children=(FloatProgress(value=0.0, layout=Layout(flex='2'), max=200.0), HTML(value='')), layout=Layout(di…",
      "application/vnd.jupyter.widget-view+json": {
       "version_major": 2,
       "version_minor": 0,
       "model_id": "86f32ab11de144c481bd3918556c3f6c"
      }
     },
     "metadata": {}
    },
    {
     "output_type": "stream",
     "name": "stdout",
     "text": [
      "\n"
     ]
    },
    {
     "output_type": "display_data",
     "data": {
      "text/plain": "HBox(children=(FloatProgress(value=0.0, layout=Layout(flex='2'), max=200.0), HTML(value='')), layout=Layout(di…",
      "application/vnd.jupyter.widget-view+json": {
       "version_major": 2,
       "version_minor": 0,
       "model_id": "1e5f9f35a90b47af9507b2cf775fd50a"
      }
     },
     "metadata": {}
    },
    {
     "output_type": "stream",
     "name": "stdout",
     "text": [
      "\n"
     ]
    },
    {
     "output_type": "display_data",
     "data": {
      "text/plain": "HBox(children=(FloatProgress(value=0.0, layout=Layout(flex='2'), max=200.0), HTML(value='')), layout=Layout(di…",
      "application/vnd.jupyter.widget-view+json": {
       "version_major": 2,
       "version_minor": 0,
       "model_id": "c577eecb722a4cee8e5b40535f3abe7b"
      }
     },
     "metadata": {}
    },
    {
     "output_type": "stream",
     "name": "stdout",
     "text": [
      "\n"
     ]
    },
    {
     "output_type": "display_data",
     "data": {
      "text/plain": "HBox(children=(FloatProgress(value=0.0, layout=Layout(flex='2'), max=200.0), HTML(value='')), layout=Layout(di…",
      "application/vnd.jupyter.widget-view+json": {
       "version_major": 2,
       "version_minor": 0,
       "model_id": "3e5d3bf7af924d20b483c33f1ba22094"
      }
     },
     "metadata": {}
    },
    {
     "output_type": "stream",
     "name": "stdout",
     "text": [
      "\n"
     ]
    }
   ],
   "source": [
    "num_epochs = 20\n",
    "\n",
    "loss_tracker = []\n",
    "\n",
    "for epoch in range(num_epochs):\n",
    "  # Initialize random value for loss just for displaying purposes\n",
    "\n",
    "  # Using the tqdm for nice training visuals\n",
    "  progress_bar = tqdm(train_loader, ncols=1000)\n",
    "\n",
    "  # We load a batch of images and their corresponding labels here and continue\n",
    "  # until we trained on all batches.\n",
    "  for i, (images, labels) in enumerate(progress_bar):\n",
    "    # Convert torch tensor to a vector of size 784 in order to send it to input\n",
    "    # layer\n",
    "    images = Variable(images)\n",
    "    labels = Variable(labels)\n",
    "\n",
    "    # Clear the gradients before performing backpropagation\n",
    "    optimizer.zero_grad()\n",
    "    # Perform the forward pass - this call of net calls the forward() fn\n",
    "    outputs = net(images)\n",
    "    # Compute loss on the output of the forward pass and desired label\n",
    "    loss = criterion(outputs, labels)\n",
    "    # Compute the gradients with respect to the loss function\n",
    "    loss.backward()      \n",
    "    # Update the weights in the neural network using the optimizer/backprop\n",
    "    optimizer.step()\n",
    "\n",
    "    # Track losses for plotting later\n",
    "    loss_tracker.append(loss.data)   "
   ]
  },
  {
   "cell_type": "code",
   "execution_count": 31,
   "metadata": {},
   "outputs": [
    {
     "output_type": "display_data",
     "data": {
      "text/plain": "<Figure size 432x288 with 1 Axes>",
      "image/svg+xml": "<?xml version=\"1.0\" encoding=\"utf-8\" standalone=\"no\"?>\r\n<!DOCTYPE svg PUBLIC \"-//W3C//DTD SVG 1.1//EN\"\r\n  \"http://www.w3.org/Graphics/SVG/1.1/DTD/svg11.dtd\">\r\n<!-- Created with matplotlib (https://matplotlib.org/) -->\r\n<svg height=\"262.19625pt\" version=\"1.1\" viewBox=\"0 0 376.240625 262.19625\" width=\"376.240625pt\" xmlns=\"http://www.w3.org/2000/svg\" xmlns:xlink=\"http://www.w3.org/1999/xlink\">\r\n <defs>\r\n  <style type=\"text/css\">\r\n*{stroke-linecap:butt;stroke-linejoin:round;}\r\n  </style>\r\n </defs>\r\n <g id=\"figure_1\">\r\n  <g id=\"patch_1\">\r\n   <path d=\"M 0 262.19625 \r\nL 376.240625 262.19625 \r\nL 376.240625 0 \r\nL 0 0 \r\nz\r\n\" style=\"fill:none;\"/>\r\n  </g>\r\n  <g id=\"axes_1\">\r\n   <g id=\"patch_2\">\r\n    <path d=\"M 34.240625 224.64 \r\nL 369.040625 224.64 \r\nL 369.040625 7.2 \r\nL 34.240625 7.2 \r\nz\r\n\" style=\"fill:#ffffff;\"/>\r\n   </g>\r\n   <g id=\"matplotlib.axis_1\">\r\n    <g id=\"xtick_1\">\r\n     <g id=\"line2d_1\">\r\n      <defs>\r\n       <path d=\"M 0 0 \r\nL 0 3.5 \r\n\" id=\"m879e588a9e\" style=\"stroke:#000000;stroke-width:0.8;\"/>\r\n      </defs>\r\n      <g>\r\n       <use style=\"stroke:#000000;stroke-width:0.8;\" x=\"49.458807\" xlink:href=\"#m879e588a9e\" y=\"224.64\"/>\r\n      </g>\r\n     </g>\r\n     <g id=\"text_1\">\r\n      <!-- 0 -->\r\n      <defs>\r\n       <path d=\"M 31.78125 66.40625 \r\nQ 24.171875 66.40625 20.328125 58.90625 \r\nQ 16.5 51.421875 16.5 36.375 \r\nQ 16.5 21.390625 20.328125 13.890625 \r\nQ 24.171875 6.390625 31.78125 6.390625 \r\nQ 39.453125 6.390625 43.28125 13.890625 \r\nQ 47.125 21.390625 47.125 36.375 \r\nQ 47.125 51.421875 43.28125 58.90625 \r\nQ 39.453125 66.40625 31.78125 66.40625 \r\nz\r\nM 31.78125 74.21875 \r\nQ 44.046875 74.21875 50.515625 64.515625 \r\nQ 56.984375 54.828125 56.984375 36.375 \r\nQ 56.984375 17.96875 50.515625 8.265625 \r\nQ 44.046875 -1.421875 31.78125 -1.421875 \r\nQ 19.53125 -1.421875 13.0625 8.265625 \r\nQ 6.59375 17.96875 6.59375 36.375 \r\nQ 6.59375 54.828125 13.0625 64.515625 \r\nQ 19.53125 74.21875 31.78125 74.21875 \r\nz\r\n\" id=\"DejaVuSans-48\"/>\r\n      </defs>\r\n      <g transform=\"translate(46.277557 239.238437)scale(0.1 -0.1)\">\r\n       <use xlink:href=\"#DejaVuSans-48\"/>\r\n      </g>\r\n     </g>\r\n    </g>\r\n    <g id=\"xtick_2\">\r\n     <g id=\"line2d_2\">\r\n      <g>\r\n       <use style=\"stroke:#000000;stroke-width:0.8;\" x=\"87.513775\" xlink:href=\"#m879e588a9e\" y=\"224.64\"/>\r\n      </g>\r\n     </g>\r\n     <g id=\"text_2\">\r\n      <!-- 500 -->\r\n      <defs>\r\n       <path d=\"M 10.796875 72.90625 \r\nL 49.515625 72.90625 \r\nL 49.515625 64.59375 \r\nL 19.828125 64.59375 \r\nL 19.828125 46.734375 \r\nQ 21.96875 47.46875 24.109375 47.828125 \r\nQ 26.265625 48.1875 28.421875 48.1875 \r\nQ 40.625 48.1875 47.75 41.5 \r\nQ 54.890625 34.8125 54.890625 23.390625 \r\nQ 54.890625 11.625 47.5625 5.09375 \r\nQ 40.234375 -1.421875 26.90625 -1.421875 \r\nQ 22.3125 -1.421875 17.546875 -0.640625 \r\nQ 12.796875 0.140625 7.71875 1.703125 \r\nL 7.71875 11.625 \r\nQ 12.109375 9.234375 16.796875 8.0625 \r\nQ 21.484375 6.890625 26.703125 6.890625 \r\nQ 35.15625 6.890625 40.078125 11.328125 \r\nQ 45.015625 15.765625 45.015625 23.390625 \r\nQ 45.015625 31 40.078125 35.4375 \r\nQ 35.15625 39.890625 26.703125 39.890625 \r\nQ 22.75 39.890625 18.8125 39.015625 \r\nQ 14.890625 38.140625 10.796875 36.28125 \r\nz\r\n\" id=\"DejaVuSans-53\"/>\r\n      </defs>\r\n      <g transform=\"translate(77.970025 239.238437)scale(0.1 -0.1)\">\r\n       <use xlink:href=\"#DejaVuSans-53\"/>\r\n       <use x=\"63.623047\" xlink:href=\"#DejaVuSans-48\"/>\r\n       <use x=\"127.246094\" xlink:href=\"#DejaVuSans-48\"/>\r\n      </g>\r\n     </g>\r\n    </g>\r\n    <g id=\"xtick_3\">\r\n     <g id=\"line2d_3\">\r\n      <g>\r\n       <use style=\"stroke:#000000;stroke-width:0.8;\" x=\"125.568743\" xlink:href=\"#m879e588a9e\" y=\"224.64\"/>\r\n      </g>\r\n     </g>\r\n     <g id=\"text_3\">\r\n      <!-- 1000 -->\r\n      <defs>\r\n       <path d=\"M 12.40625 8.296875 \r\nL 28.515625 8.296875 \r\nL 28.515625 63.921875 \r\nL 10.984375 60.40625 \r\nL 10.984375 69.390625 \r\nL 28.421875 72.90625 \r\nL 38.28125 72.90625 \r\nL 38.28125 8.296875 \r\nL 54.390625 8.296875 \r\nL 54.390625 0 \r\nL 12.40625 0 \r\nz\r\n\" id=\"DejaVuSans-49\"/>\r\n      </defs>\r\n      <g transform=\"translate(112.843743 239.238437)scale(0.1 -0.1)\">\r\n       <use xlink:href=\"#DejaVuSans-49\"/>\r\n       <use x=\"63.623047\" xlink:href=\"#DejaVuSans-48\"/>\r\n       <use x=\"127.246094\" xlink:href=\"#DejaVuSans-48\"/>\r\n       <use x=\"190.869141\" xlink:href=\"#DejaVuSans-48\"/>\r\n      </g>\r\n     </g>\r\n    </g>\r\n    <g id=\"xtick_4\">\r\n     <g id=\"line2d_4\">\r\n      <g>\r\n       <use style=\"stroke:#000000;stroke-width:0.8;\" x=\"163.623712\" xlink:href=\"#m879e588a9e\" y=\"224.64\"/>\r\n      </g>\r\n     </g>\r\n     <g id=\"text_4\">\r\n      <!-- 1500 -->\r\n      <g transform=\"translate(150.898712 239.238437)scale(0.1 -0.1)\">\r\n       <use xlink:href=\"#DejaVuSans-49\"/>\r\n       <use x=\"63.623047\" xlink:href=\"#DejaVuSans-53\"/>\r\n       <use x=\"127.246094\" xlink:href=\"#DejaVuSans-48\"/>\r\n       <use x=\"190.869141\" xlink:href=\"#DejaVuSans-48\"/>\r\n      </g>\r\n     </g>\r\n    </g>\r\n    <g id=\"xtick_5\">\r\n     <g id=\"line2d_5\">\r\n      <g>\r\n       <use style=\"stroke:#000000;stroke-width:0.8;\" x=\"201.67868\" xlink:href=\"#m879e588a9e\" y=\"224.64\"/>\r\n      </g>\r\n     </g>\r\n     <g id=\"text_5\">\r\n      <!-- 2000 -->\r\n      <defs>\r\n       <path d=\"M 19.1875 8.296875 \r\nL 53.609375 8.296875 \r\nL 53.609375 0 \r\nL 7.328125 0 \r\nL 7.328125 8.296875 \r\nQ 12.9375 14.109375 22.625 23.890625 \r\nQ 32.328125 33.6875 34.8125 36.53125 \r\nQ 39.546875 41.84375 41.421875 45.53125 \r\nQ 43.3125 49.21875 43.3125 52.78125 \r\nQ 43.3125 58.59375 39.234375 62.25 \r\nQ 35.15625 65.921875 28.609375 65.921875 \r\nQ 23.96875 65.921875 18.8125 64.3125 \r\nQ 13.671875 62.703125 7.8125 59.421875 \r\nL 7.8125 69.390625 \r\nQ 13.765625 71.78125 18.9375 73 \r\nQ 24.125 74.21875 28.421875 74.21875 \r\nQ 39.75 74.21875 46.484375 68.546875 \r\nQ 53.21875 62.890625 53.21875 53.421875 \r\nQ 53.21875 48.921875 51.53125 44.890625 \r\nQ 49.859375 40.875 45.40625 35.40625 \r\nQ 44.1875 33.984375 37.640625 27.21875 \r\nQ 31.109375 20.453125 19.1875 8.296875 \r\nz\r\n\" id=\"DejaVuSans-50\"/>\r\n      </defs>\r\n      <g transform=\"translate(188.95368 239.238437)scale(0.1 -0.1)\">\r\n       <use xlink:href=\"#DejaVuSans-50\"/>\r\n       <use x=\"63.623047\" xlink:href=\"#DejaVuSans-48\"/>\r\n       <use x=\"127.246094\" xlink:href=\"#DejaVuSans-48\"/>\r\n       <use x=\"190.869141\" xlink:href=\"#DejaVuSans-48\"/>\r\n      </g>\r\n     </g>\r\n    </g>\r\n    <g id=\"xtick_6\">\r\n     <g id=\"line2d_6\">\r\n      <g>\r\n       <use style=\"stroke:#000000;stroke-width:0.8;\" x=\"239.733648\" xlink:href=\"#m879e588a9e\" y=\"224.64\"/>\r\n      </g>\r\n     </g>\r\n     <g id=\"text_6\">\r\n      <!-- 2500 -->\r\n      <g transform=\"translate(227.008648 239.238437)scale(0.1 -0.1)\">\r\n       <use xlink:href=\"#DejaVuSans-50\"/>\r\n       <use x=\"63.623047\" xlink:href=\"#DejaVuSans-53\"/>\r\n       <use x=\"127.246094\" xlink:href=\"#DejaVuSans-48\"/>\r\n       <use x=\"190.869141\" xlink:href=\"#DejaVuSans-48\"/>\r\n      </g>\r\n     </g>\r\n    </g>\r\n    <g id=\"xtick_7\">\r\n     <g id=\"line2d_7\">\r\n      <g>\r\n       <use style=\"stroke:#000000;stroke-width:0.8;\" x=\"277.788617\" xlink:href=\"#m879e588a9e\" y=\"224.64\"/>\r\n      </g>\r\n     </g>\r\n     <g id=\"text_7\">\r\n      <!-- 3000 -->\r\n      <defs>\r\n       <path d=\"M 40.578125 39.3125 \r\nQ 47.65625 37.796875 51.625 33 \r\nQ 55.609375 28.21875 55.609375 21.1875 \r\nQ 55.609375 10.40625 48.1875 4.484375 \r\nQ 40.765625 -1.421875 27.09375 -1.421875 \r\nQ 22.515625 -1.421875 17.65625 -0.515625 \r\nQ 12.796875 0.390625 7.625 2.203125 \r\nL 7.625 11.71875 \r\nQ 11.71875 9.328125 16.59375 8.109375 \r\nQ 21.484375 6.890625 26.8125 6.890625 \r\nQ 36.078125 6.890625 40.9375 10.546875 \r\nQ 45.796875 14.203125 45.796875 21.1875 \r\nQ 45.796875 27.640625 41.28125 31.265625 \r\nQ 36.765625 34.90625 28.71875 34.90625 \r\nL 20.21875 34.90625 \r\nL 20.21875 43.015625 \r\nL 29.109375 43.015625 \r\nQ 36.375 43.015625 40.234375 45.921875 \r\nQ 44.09375 48.828125 44.09375 54.296875 \r\nQ 44.09375 59.90625 40.109375 62.90625 \r\nQ 36.140625 65.921875 28.71875 65.921875 \r\nQ 24.65625 65.921875 20.015625 65.03125 \r\nQ 15.375 64.15625 9.8125 62.3125 \r\nL 9.8125 71.09375 \r\nQ 15.4375 72.65625 20.34375 73.4375 \r\nQ 25.25 74.21875 29.59375 74.21875 \r\nQ 40.828125 74.21875 47.359375 69.109375 \r\nQ 53.90625 64.015625 53.90625 55.328125 \r\nQ 53.90625 49.265625 50.4375 45.09375 \r\nQ 46.96875 40.921875 40.578125 39.3125 \r\nz\r\n\" id=\"DejaVuSans-51\"/>\r\n      </defs>\r\n      <g transform=\"translate(265.063617 239.238437)scale(0.1 -0.1)\">\r\n       <use xlink:href=\"#DejaVuSans-51\"/>\r\n       <use x=\"63.623047\" xlink:href=\"#DejaVuSans-48\"/>\r\n       <use x=\"127.246094\" xlink:href=\"#DejaVuSans-48\"/>\r\n       <use x=\"190.869141\" xlink:href=\"#DejaVuSans-48\"/>\r\n      </g>\r\n     </g>\r\n    </g>\r\n    <g id=\"xtick_8\">\r\n     <g id=\"line2d_8\">\r\n      <g>\r\n       <use style=\"stroke:#000000;stroke-width:0.8;\" x=\"315.843585\" xlink:href=\"#m879e588a9e\" y=\"224.64\"/>\r\n      </g>\r\n     </g>\r\n     <g id=\"text_8\">\r\n      <!-- 3500 -->\r\n      <g transform=\"translate(303.118585 239.238437)scale(0.1 -0.1)\">\r\n       <use xlink:href=\"#DejaVuSans-51\"/>\r\n       <use x=\"63.623047\" xlink:href=\"#DejaVuSans-53\"/>\r\n       <use x=\"127.246094\" xlink:href=\"#DejaVuSans-48\"/>\r\n       <use x=\"190.869141\" xlink:href=\"#DejaVuSans-48\"/>\r\n      </g>\r\n     </g>\r\n    </g>\r\n    <g id=\"xtick_9\">\r\n     <g id=\"line2d_9\">\r\n      <g>\r\n       <use style=\"stroke:#000000;stroke-width:0.8;\" x=\"353.898553\" xlink:href=\"#m879e588a9e\" y=\"224.64\"/>\r\n      </g>\r\n     </g>\r\n     <g id=\"text_9\">\r\n      <!-- 4000 -->\r\n      <defs>\r\n       <path d=\"M 37.796875 64.3125 \r\nL 12.890625 25.390625 \r\nL 37.796875 25.390625 \r\nz\r\nM 35.203125 72.90625 \r\nL 47.609375 72.90625 \r\nL 47.609375 25.390625 \r\nL 58.015625 25.390625 \r\nL 58.015625 17.1875 \r\nL 47.609375 17.1875 \r\nL 47.609375 0 \r\nL 37.796875 0 \r\nL 37.796875 17.1875 \r\nL 4.890625 17.1875 \r\nL 4.890625 26.703125 \r\nz\r\n\" id=\"DejaVuSans-52\"/>\r\n      </defs>\r\n      <g transform=\"translate(341.173553 239.238437)scale(0.1 -0.1)\">\r\n       <use xlink:href=\"#DejaVuSans-52\"/>\r\n       <use x=\"63.623047\" xlink:href=\"#DejaVuSans-48\"/>\r\n       <use x=\"127.246094\" xlink:href=\"#DejaVuSans-48\"/>\r\n       <use x=\"190.869141\" xlink:href=\"#DejaVuSans-48\"/>\r\n      </g>\r\n     </g>\r\n    </g>\r\n    <g id=\"text_10\">\r\n     <!-- iterations -->\r\n     <defs>\r\n      <path d=\"M 9.421875 54.6875 \r\nL 18.40625 54.6875 \r\nL 18.40625 0 \r\nL 9.421875 0 \r\nz\r\nM 9.421875 75.984375 \r\nL 18.40625 75.984375 \r\nL 18.40625 64.59375 \r\nL 9.421875 64.59375 \r\nz\r\n\" id=\"DejaVuSans-105\"/>\r\n      <path d=\"M 18.3125 70.21875 \r\nL 18.3125 54.6875 \r\nL 36.8125 54.6875 \r\nL 36.8125 47.703125 \r\nL 18.3125 47.703125 \r\nL 18.3125 18.015625 \r\nQ 18.3125 11.328125 20.140625 9.421875 \r\nQ 21.96875 7.515625 27.59375 7.515625 \r\nL 36.8125 7.515625 \r\nL 36.8125 0 \r\nL 27.59375 0 \r\nQ 17.1875 0 13.234375 3.875 \r\nQ 9.28125 7.765625 9.28125 18.015625 \r\nL 9.28125 47.703125 \r\nL 2.6875 47.703125 \r\nL 2.6875 54.6875 \r\nL 9.28125 54.6875 \r\nL 9.28125 70.21875 \r\nz\r\n\" id=\"DejaVuSans-116\"/>\r\n      <path d=\"M 56.203125 29.59375 \r\nL 56.203125 25.203125 \r\nL 14.890625 25.203125 \r\nQ 15.484375 15.921875 20.484375 11.0625 \r\nQ 25.484375 6.203125 34.421875 6.203125 \r\nQ 39.59375 6.203125 44.453125 7.46875 \r\nQ 49.3125 8.734375 54.109375 11.28125 \r\nL 54.109375 2.78125 \r\nQ 49.265625 0.734375 44.1875 -0.34375 \r\nQ 39.109375 -1.421875 33.890625 -1.421875 \r\nQ 20.796875 -1.421875 13.15625 6.1875 \r\nQ 5.515625 13.8125 5.515625 26.8125 \r\nQ 5.515625 40.234375 12.765625 48.109375 \r\nQ 20.015625 56 32.328125 56 \r\nQ 43.359375 56 49.78125 48.890625 \r\nQ 56.203125 41.796875 56.203125 29.59375 \r\nz\r\nM 47.21875 32.234375 \r\nQ 47.125 39.59375 43.09375 43.984375 \r\nQ 39.0625 48.390625 32.421875 48.390625 \r\nQ 24.90625 48.390625 20.390625 44.140625 \r\nQ 15.875 39.890625 15.1875 32.171875 \r\nz\r\n\" id=\"DejaVuSans-101\"/>\r\n      <path d=\"M 41.109375 46.296875 \r\nQ 39.59375 47.171875 37.8125 47.578125 \r\nQ 36.03125 48 33.890625 48 \r\nQ 26.265625 48 22.1875 43.046875 \r\nQ 18.109375 38.09375 18.109375 28.8125 \r\nL 18.109375 0 \r\nL 9.078125 0 \r\nL 9.078125 54.6875 \r\nL 18.109375 54.6875 \r\nL 18.109375 46.1875 \r\nQ 20.953125 51.171875 25.484375 53.578125 \r\nQ 30.03125 56 36.53125 56 \r\nQ 37.453125 56 38.578125 55.875 \r\nQ 39.703125 55.765625 41.0625 55.515625 \r\nz\r\n\" id=\"DejaVuSans-114\"/>\r\n      <path d=\"M 34.28125 27.484375 \r\nQ 23.390625 27.484375 19.1875 25 \r\nQ 14.984375 22.515625 14.984375 16.5 \r\nQ 14.984375 11.71875 18.140625 8.90625 \r\nQ 21.296875 6.109375 26.703125 6.109375 \r\nQ 34.1875 6.109375 38.703125 11.40625 \r\nQ 43.21875 16.703125 43.21875 25.484375 \r\nL 43.21875 27.484375 \r\nz\r\nM 52.203125 31.203125 \r\nL 52.203125 0 \r\nL 43.21875 0 \r\nL 43.21875 8.296875 \r\nQ 40.140625 3.328125 35.546875 0.953125 \r\nQ 30.953125 -1.421875 24.3125 -1.421875 \r\nQ 15.921875 -1.421875 10.953125 3.296875 \r\nQ 6 8.015625 6 15.921875 \r\nQ 6 25.140625 12.171875 29.828125 \r\nQ 18.359375 34.515625 30.609375 34.515625 \r\nL 43.21875 34.515625 \r\nL 43.21875 35.40625 \r\nQ 43.21875 41.609375 39.140625 45 \r\nQ 35.0625 48.390625 27.6875 48.390625 \r\nQ 23 48.390625 18.546875 47.265625 \r\nQ 14.109375 46.140625 10.015625 43.890625 \r\nL 10.015625 52.203125 \r\nQ 14.9375 54.109375 19.578125 55.046875 \r\nQ 24.21875 56 28.609375 56 \r\nQ 40.484375 56 46.34375 49.84375 \r\nQ 52.203125 43.703125 52.203125 31.203125 \r\nz\r\n\" id=\"DejaVuSans-97\"/>\r\n      <path d=\"M 30.609375 48.390625 \r\nQ 23.390625 48.390625 19.1875 42.75 \r\nQ 14.984375 37.109375 14.984375 27.296875 \r\nQ 14.984375 17.484375 19.15625 11.84375 \r\nQ 23.34375 6.203125 30.609375 6.203125 \r\nQ 37.796875 6.203125 41.984375 11.859375 \r\nQ 46.1875 17.53125 46.1875 27.296875 \r\nQ 46.1875 37.015625 41.984375 42.703125 \r\nQ 37.796875 48.390625 30.609375 48.390625 \r\nz\r\nM 30.609375 56 \r\nQ 42.328125 56 49.015625 48.375 \r\nQ 55.71875 40.765625 55.71875 27.296875 \r\nQ 55.71875 13.875 49.015625 6.21875 \r\nQ 42.328125 -1.421875 30.609375 -1.421875 \r\nQ 18.84375 -1.421875 12.171875 6.21875 \r\nQ 5.515625 13.875 5.515625 27.296875 \r\nQ 5.515625 40.765625 12.171875 48.375 \r\nQ 18.84375 56 30.609375 56 \r\nz\r\n\" id=\"DejaVuSans-111\"/>\r\n      <path d=\"M 54.890625 33.015625 \r\nL 54.890625 0 \r\nL 45.90625 0 \r\nL 45.90625 32.71875 \r\nQ 45.90625 40.484375 42.875 44.328125 \r\nQ 39.84375 48.1875 33.796875 48.1875 \r\nQ 26.515625 48.1875 22.3125 43.546875 \r\nQ 18.109375 38.921875 18.109375 30.90625 \r\nL 18.109375 0 \r\nL 9.078125 0 \r\nL 9.078125 54.6875 \r\nL 18.109375 54.6875 \r\nL 18.109375 46.1875 \r\nQ 21.34375 51.125 25.703125 53.5625 \r\nQ 30.078125 56 35.796875 56 \r\nQ 45.21875 56 50.046875 50.171875 \r\nQ 54.890625 44.34375 54.890625 33.015625 \r\nz\r\n\" id=\"DejaVuSans-110\"/>\r\n      <path d=\"M 44.28125 53.078125 \r\nL 44.28125 44.578125 \r\nQ 40.484375 46.53125 36.375 47.5 \r\nQ 32.28125 48.484375 27.875 48.484375 \r\nQ 21.1875 48.484375 17.84375 46.4375 \r\nQ 14.5 44.390625 14.5 40.28125 \r\nQ 14.5 37.15625 16.890625 35.375 \r\nQ 19.28125 33.59375 26.515625 31.984375 \r\nL 29.59375 31.296875 \r\nQ 39.15625 29.25 43.1875 25.515625 \r\nQ 47.21875 21.78125 47.21875 15.09375 \r\nQ 47.21875 7.46875 41.1875 3.015625 \r\nQ 35.15625 -1.421875 24.609375 -1.421875 \r\nQ 20.21875 -1.421875 15.453125 -0.5625 \r\nQ 10.6875 0.296875 5.421875 2 \r\nL 5.421875 11.28125 \r\nQ 10.40625 8.6875 15.234375 7.390625 \r\nQ 20.0625 6.109375 24.8125 6.109375 \r\nQ 31.15625 6.109375 34.5625 8.28125 \r\nQ 37.984375 10.453125 37.984375 14.40625 \r\nQ 37.984375 18.0625 35.515625 20.015625 \r\nQ 33.0625 21.96875 24.703125 23.78125 \r\nL 21.578125 24.515625 \r\nQ 13.234375 26.265625 9.515625 29.90625 \r\nQ 5.8125 33.546875 5.8125 39.890625 \r\nQ 5.8125 47.609375 11.28125 51.796875 \r\nQ 16.75 56 26.8125 56 \r\nQ 31.78125 56 36.171875 55.265625 \r\nQ 40.578125 54.546875 44.28125 53.078125 \r\nz\r\n\" id=\"DejaVuSans-115\"/>\r\n     </defs>\r\n     <g transform=\"translate(177.913281 252.916562)scale(0.1 -0.1)\">\r\n      <use xlink:href=\"#DejaVuSans-105\"/>\r\n      <use x=\"27.783203\" xlink:href=\"#DejaVuSans-116\"/>\r\n      <use x=\"66.992188\" xlink:href=\"#DejaVuSans-101\"/>\r\n      <use x=\"128.515625\" xlink:href=\"#DejaVuSans-114\"/>\r\n      <use x=\"169.628906\" xlink:href=\"#DejaVuSans-97\"/>\r\n      <use x=\"230.908203\" xlink:href=\"#DejaVuSans-116\"/>\r\n      <use x=\"270.117188\" xlink:href=\"#DejaVuSans-105\"/>\r\n      <use x=\"297.900391\" xlink:href=\"#DejaVuSans-111\"/>\r\n      <use x=\"359.082031\" xlink:href=\"#DejaVuSans-110\"/>\r\n      <use x=\"422.460938\" xlink:href=\"#DejaVuSans-115\"/>\r\n     </g>\r\n    </g>\r\n   </g>\r\n   <g id=\"matplotlib.axis_2\">\r\n    <g id=\"ytick_1\">\r\n     <g id=\"line2d_10\">\r\n      <defs>\r\n       <path d=\"M 0 0 \r\nL -3.5 0 \r\n\" id=\"m43864a07d1\" style=\"stroke:#000000;stroke-width:0.8;\"/>\r\n      </defs>\r\n      <g>\r\n       <use style=\"stroke:#000000;stroke-width:0.8;\" x=\"34.240625\" xlink:href=\"#m43864a07d1\" y=\"214.756364\"/>\r\n      </g>\r\n     </g>\r\n     <g id=\"text_11\">\r\n      <!-- 0 -->\r\n      <g transform=\"translate(20.878125 218.555582)scale(0.1 -0.1)\">\r\n       <use xlink:href=\"#DejaVuSans-48\"/>\r\n      </g>\r\n     </g>\r\n    </g>\r\n    <g id=\"ytick_2\">\r\n     <g id=\"line2d_11\">\r\n      <g>\r\n       <use style=\"stroke:#000000;stroke-width:0.8;\" x=\"34.240625\" xlink:href=\"#m43864a07d1\" y=\"174.827243\"/>\r\n      </g>\r\n     </g>\r\n     <g id=\"text_12\">\r\n      <!-- 1 -->\r\n      <g transform=\"translate(20.878125 178.626462)scale(0.1 -0.1)\">\r\n       <use xlink:href=\"#DejaVuSans-49\"/>\r\n      </g>\r\n     </g>\r\n    </g>\r\n    <g id=\"ytick_3\">\r\n     <g id=\"line2d_12\">\r\n      <g>\r\n       <use style=\"stroke:#000000;stroke-width:0.8;\" x=\"34.240625\" xlink:href=\"#m43864a07d1\" y=\"134.898123\"/>\r\n      </g>\r\n     </g>\r\n     <g id=\"text_13\">\r\n      <!-- 2 -->\r\n      <g transform=\"translate(20.878125 138.697342)scale(0.1 -0.1)\">\r\n       <use xlink:href=\"#DejaVuSans-50\"/>\r\n      </g>\r\n     </g>\r\n    </g>\r\n    <g id=\"ytick_4\">\r\n     <g id=\"line2d_13\">\r\n      <g>\r\n       <use style=\"stroke:#000000;stroke-width:0.8;\" x=\"34.240625\" xlink:href=\"#m43864a07d1\" y=\"94.969003\"/>\r\n      </g>\r\n     </g>\r\n     <g id=\"text_14\">\r\n      <!-- 3 -->\r\n      <g transform=\"translate(20.878125 98.768222)scale(0.1 -0.1)\">\r\n       <use xlink:href=\"#DejaVuSans-51\"/>\r\n      </g>\r\n     </g>\r\n    </g>\r\n    <g id=\"ytick_5\">\r\n     <g id=\"line2d_14\">\r\n      <g>\r\n       <use style=\"stroke:#000000;stroke-width:0.8;\" x=\"34.240625\" xlink:href=\"#m43864a07d1\" y=\"55.039883\"/>\r\n      </g>\r\n     </g>\r\n     <g id=\"text_15\">\r\n      <!-- 4 -->\r\n      <g transform=\"translate(20.878125 58.839102)scale(0.1 -0.1)\">\r\n       <use xlink:href=\"#DejaVuSans-52\"/>\r\n      </g>\r\n     </g>\r\n    </g>\r\n    <g id=\"ytick_6\">\r\n     <g id=\"line2d_15\">\r\n      <g>\r\n       <use style=\"stroke:#000000;stroke-width:0.8;\" x=\"34.240625\" xlink:href=\"#m43864a07d1\" y=\"15.110763\"/>\r\n      </g>\r\n     </g>\r\n     <g id=\"text_16\">\r\n      <!-- 5 -->\r\n      <g transform=\"translate(20.878125 18.909982)scale(0.1 -0.1)\">\r\n       <use xlink:href=\"#DejaVuSans-53\"/>\r\n      </g>\r\n     </g>\r\n    </g>\r\n    <g id=\"text_17\">\r\n     <!-- loss -->\r\n     <defs>\r\n      <path d=\"M 9.421875 75.984375 \r\nL 18.40625 75.984375 \r\nL 18.40625 0 \r\nL 9.421875 0 \r\nz\r\n\" id=\"DejaVuSans-108\"/>\r\n     </defs>\r\n     <g transform=\"translate(14.798437 125.577812)rotate(-90)scale(0.1 -0.1)\">\r\n      <use xlink:href=\"#DejaVuSans-108\"/>\r\n      <use x=\"27.783203\" xlink:href=\"#DejaVuSans-111\"/>\r\n      <use x=\"88.964844\" xlink:href=\"#DejaVuSans-115\"/>\r\n      <use x=\"141.064453\" xlink:href=\"#DejaVuSans-115\"/>\r\n     </g>\r\n    </g>\r\n   </g>\r\n   <g id=\"line2d_16\">\r\n    <path clip-path=\"url(#p7d5e619ece)\" d=\"M 49.458807 119.036454 \r\nL 49.534917 121.458864 \r\nL 49.611027 116.484136 \r\nL 49.687137 122.898541 \r\nL 49.763247 117.479569 \r\nL 49.839357 118.976727 \r\nL 49.915466 117.818285 \r\nL 50.143796 126.56628 \r\nL 50.219906 121.912789 \r\nL 50.296016 122.744376 \r\nL 50.524346 135.97646 \r\nL 50.600456 132.364331 \r\nL 50.676566 129.225058 \r\nL 50.752676 136.198667 \r\nL 50.828786 136.072577 \r\nL 50.904896 137.374949 \r\nL 50.981006 143.916633 \r\nL 51.057115 128.891378 \r\nL 51.133225 148.567667 \r\nL 51.209335 133.924281 \r\nL 51.361555 161.132776 \r\nL 51.437665 153.468502 \r\nL 51.513775 155.180713 \r\nL 51.589885 189.854384 \r\nL 51.665995 158.53255 \r\nL 51.742105 159.435136 \r\nL 51.818215 169.453663 \r\nL 51.894325 163.667463 \r\nL 51.970435 167.558086 \r\nL 52.046545 178.664943 \r\nL 52.122655 164.701899 \r\nL 52.274874 196.882537 \r\nL 52.503204 208.878981 \r\nL 52.655424 144.246139 \r\nL 52.731534 206.261205 \r\nL 52.807644 152.601901 \r\nL 52.883754 212.058673 \r\nL 52.959864 208.059836 \r\nL 53.035974 130.747462 \r\nL 53.188194 214.1806 \r\nL 53.340414 136.877851 \r\nL 53.416524 138.021527 \r\nL 53.720963 203.891733 \r\nL 53.949293 193.343281 \r\nL 54.025403 201.131203 \r\nL 54.101513 166.487565 \r\nL 54.177623 168.303332 \r\nL 54.253733 185.208348 \r\nL 54.329843 184.324937 \r\nL 54.405953 179.850515 \r\nL 54.482063 198.398573 \r\nL 54.558173 193.779252 \r\nL 54.710392 188.277617 \r\nL 54.786502 196.252699 \r\nL 54.938722 182.312466 \r\nL 55.014832 200.072524 \r\nL 55.167052 184.790917 \r\nL 55.319272 202.106586 \r\nL 55.395382 199.590855 \r\nL 55.471492 197.532945 \r\nL 55.547602 201.462439 \r\nL 55.852041 188.698475 \r\nL 55.928151 195.102502 \r\nL 56.004261 211.990999 \r\nL 56.080371 207.424922 \r\nL 56.308701 171.955882 \r\nL 56.384811 201.777025 \r\nL 56.460921 200.583176 \r\nL 56.537031 209.754653 \r\nL 56.613141 173.841521 \r\nL 56.689251 187.838452 \r\nL 56.765361 190.984568 \r\nL 56.841471 213.661786 \r\nL 56.917581 204.072751 \r\nL 56.993691 195.500914 \r\nL 57.0698 208.34448 \r\nL 57.14591 182.731903 \r\nL 57.29813 213.168834 \r\nL 57.37424 193.855639 \r\nL 57.45035 195.503844 \r\nL 57.90701 213.054474 \r\nL 57.98312 180.075403 \r\nL 58.05923 208.134428 \r\nL 58.13534 196.674311 \r\nL 58.21145 193.278786 \r\nL 58.287559 214.491063 \r\nL 58.363669 176.075088 \r\nL 58.439779 209.930798 \r\nL 58.515889 208.672187 \r\nL 58.591999 214.271405 \r\nL 58.668109 210.019832 \r\nL 58.744219 213.545679 \r\nL 58.820329 212.925047 \r\nL 58.896439 213.859495 \r\nL 59.048659 178.050382 \r\nL 59.200879 213.749054 \r\nL 59.276989 214.291282 \r\nL 59.505318 212.715647 \r\nL 59.581428 209.29663 \r\nL 59.657538 195.974219 \r\nL 59.809758 214.686597 \r\nL 59.885868 189.766083 \r\nL 60.038088 214.497101 \r\nL 60.114198 196.957346 \r\nL 60.190308 214.22446 \r\nL 60.266418 210.364485 \r\nL 60.342528 214.719187 \r\nL 60.418638 159.443014 \r\nL 60.494748 212.984214 \r\nL 60.570858 204.566157 \r\nL 60.646967 178.033137 \r\nL 60.799187 213.233651 \r\nL 60.951407 194.592729 \r\nL 61.103627 214.707233 \r\nL 61.179737 207.771107 \r\nL 61.255847 211.642258 \r\nL 61.331957 207.131898 \r\nL 61.484177 214.582563 \r\nL 61.636397 214.709102 \r\nL 61.712507 188.516056 \r\nL 61.864726 214.625139 \r\nL 62.016946 214.746873 \r\nL 62.093056 212.020853 \r\nL 62.245276 214.753831 \r\nL 62.321386 212.560861 \r\nL 62.397496 213.497024 \r\nL 62.473606 214.53464 \r\nL 62.549716 214.438092 \r\nL 62.625826 214.68243 \r\nL 62.778046 183.537332 \r\nL 62.930266 214.482699 \r\nL 63.006376 185.048541 \r\nL 63.158595 214.702865 \r\nL 63.234705 214.756202 \r\nL 63.310815 211.254242 \r\nL 63.386925 214.616785 \r\nL 63.463035 212.69468 \r\nL 63.539145 213.294998 \r\nL 63.691365 214.692 \r\nL 63.767475 213.878903 \r\nL 63.919695 214.741891 \r\nL 64.071915 214.577653 \r\nL 64.148025 214.679147 \r\nL 64.224135 211.327609 \r\nL 64.300244 213.924702 \r\nL 64.376354 200.958594 \r\nL 64.528574 214.338108 \r\nL 64.604684 214.755526 \r\nL 64.680794 213.042762 \r\nL 64.756904 214.740569 \r\nL 64.833014 214.592521 \r\nL 64.909124 214.750386 \r\nL 64.985234 214.556325 \r\nL 65.061344 210.048335 \r\nL 65.137454 214.527956 \r\nL 65.213564 214.522235 \r\nL 65.289674 214.749034 \r\nL 65.365784 212.953286 \r\nL 65.441893 214.701519 \r\nL 65.518003 214.671347 \r\nL 65.594113 197.410719 \r\nL 65.746333 214.737381 \r\nL 65.822443 208.597348 \r\nL 65.898553 214.756364 \r\nL 65.974663 214.737309 \r\nL 66.507433 214.756364 \r\nL 66.583543 214.1317 \r\nL 66.659652 214.756283 \r\nL 66.735762 214.463581 \r\nL 66.811872 213.238971 \r\nL 66.887982 214.737519 \r\nL 66.964092 206.54177 \r\nL 67.116312 214.756349 \r\nL 67.192422 214.75584 \r\nL 67.268532 170.957051 \r\nL 67.420752 214.756311 \r\nL 67.572972 214.703169 \r\nL 67.649082 214.632697 \r\nL 67.725192 214.756364 \r\nL 67.801302 213.720891 \r\nL 67.953521 214.756297 \r\nL 68.181851 214.704243 \r\nL 68.257961 214.755845 \r\nL 68.334071 213.725182 \r\nL 68.410181 214.7498 \r\nL 68.486291 213.059637 \r\nL 68.562401 214.749548 \r\nL 68.638511 214.744546 \r\nL 69.24739 214.75594 \r\nL 69.3235 214.313989 \r\nL 69.47572 214.756354 \r\nL 69.55183 214.73318 \r\nL 69.62794 213.899014 \r\nL 69.70405 214.756364 \r\nL 69.78016 214.739517 \r\nL 69.85627 214.140234 \r\nL 69.93238 214.747759 \r\nL 70.00849 214.317977 \r\nL 70.16071 214.74695 \r\nL 70.389039 214.745213 \r\nL 70.465149 212.551694 \r\nL 70.541259 185.379696 \r\nL 70.617369 214.741078 \r\nL 70.693479 212.488127 \r\nL 70.845699 214.746298 \r\nL 70.921809 214.75624 \r\nL 70.997919 214.621899 \r\nL 71.074029 214.756364 \r\nL 71.150139 214.05814 \r\nL 71.226249 214.756364 \r\nL 71.302359 214.729317 \r\nL 71.454578 214.701263 \r\nL 71.530688 214.060372 \r\nL 71.606798 214.118234 \r\nL 71.682908 214.636404 \r\nL 71.759018 214.49329 \r\nL 71.835128 214.66788 \r\nL 71.911238 214.159254 \r\nL 71.987348 202.393043 \r\nL 72.063458 214.75476 \r\nL 72.139568 214.319196 \r\nL 72.215678 214.748225 \r\nL 72.291788 214.63079 \r\nL 72.367898 214.190909 \r\nL 72.444008 207.048789 \r\nL 72.596228 214.756364 \r\nL 72.900667 214.693663 \r\nL 72.976777 214.54674 \r\nL 73.128997 214.756364 \r\nL 73.205107 214.117667 \r\nL 73.281217 214.756345 \r\nL 73.357327 211.003807 \r\nL 73.509547 214.756264 \r\nL 73.966206 214.747249 \r\nL 74.042316 214.620651 \r\nL 74.118426 214.756078 \r\nL 74.194536 208.377828 \r\nL 74.270646 214.755431 \r\nL 74.346756 214.70142 \r\nL 74.498976 214.70585 \r\nL 74.575086 214.712216 \r\nL 74.651196 203.254922 \r\nL 74.727306 205.509215 \r\nL 74.803416 214.756359 \r\nL 74.879526 214.643456 \r\nL 75.031746 214.754384 \r\nL 75.107855 209.018298 \r\nL 75.260075 214.755573 \r\nL 75.412295 214.645749 \r\nL 75.488405 214.75634 \r\nL 75.564515 210.438161 \r\nL 75.640625 214.756364 \r\nL 75.716735 214.75029 \r\nL 75.868955 212.908374 \r\nL 76.021175 214.739993 \r\nL 76.173395 214.756364 \r\nL 76.249504 213.817057 \r\nL 76.401724 214.756364 \r\nL 76.477834 213.216093 \r\nL 76.553944 214.755759 \r\nL 76.630054 214.065307 \r\nL 76.782274 214.753784 \r\nL 77.315044 214.72331 \r\nL 77.619483 214.756302 \r\nL 77.695593 214.530763 \r\nL 77.847813 214.756354 \r\nL 78.304473 214.713623 \r\nL 78.380583 214.624223 \r\nL 78.532803 214.756287 \r\nL 78.989462 214.752299 \r\nL 79.065572 211.355375 \r\nL 79.141682 214.755202 \r\nL 79.217792 214.730626 \r\nL 79.293902 212.790596 \r\nL 79.446122 214.755688 \r\nL 79.598342 214.756364 \r\nL 79.674452 213.398855 \r\nL 79.750562 17.083636 \r\nL 79.826672 214.755164 \r\nL 79.902781 214.751142 \r\nL 80.359441 214.756364 \r\nL 80.435551 214.135271 \r\nL 80.511661 210.211674 \r\nL 80.663881 214.756364 \r\nL 80.816101 214.756278 \r\nL 80.892211 129.837212 \r\nL 80.968321 214.756364 \r\nL 81.04443 214.285021 \r\nL 81.12054 214.753755 \r\nL 81.19665 213.01784 \r\nL 81.34887 214.754593 \r\nL 81.42498 213.6574 \r\nL 81.5772 214.75138 \r\nL 81.72942 214.756221 \r\nL 81.95775 214.404079 \r\nL 82.03386 214.756364 \r\nL 82.10997 214.592791 \r\nL 82.18608 214.746288 \r\nL 82.262189 214.642659 \r\nL 82.338299 213.568848 \r\nL 82.490519 214.755992 \r\nL 82.642739 214.7504 \r\nL 82.794959 211.453811 \r\nL 82.871069 214.756364 \r\nL 82.947179 214.754069 \r\nL 83.251619 214.711902 \r\nL 83.327729 214.528643 \r\nL 83.403839 214.751804 \r\nL 83.479948 180.382265 \r\nL 83.632168 214.756364 \r\nL 84.164938 214.751552 \r\nL 84.241048 211.318232 \r\nL 84.393268 214.753251 \r\nL 84.545488 214.756364 \r\nL 84.621598 214.542995 \r\nL 84.697707 214.659683 \r\nL 84.849927 214.755983 \r\nL 85.458807 214.738085 \r\nL 85.534917 189.807737 \r\nL 85.611027 213.53836 \r\nL 85.687137 213.359988 \r\nL 85.763247 214.756364 \r\nL 85.839357 214.747854 \r\nL 86.904896 214.756364 \r\nL 86.981006 212.792476 \r\nL 87.133225 214.748449 \r\nL 87.285445 214.756345 \r\nL 87.361555 18.788888 \r\nL 87.513775 214.756254 \r\nL 88.046545 214.756364 \r\nL 88.198765 214.33727 \r\nL 88.350984 214.695982 \r\nL 88.579314 214.755312 \r\nL 88.959864 214.750728 \r\nL 89.035974 214.490353 \r\nL 89.188194 214.755988 \r\nL 89.340414 214.756354 \r\nL 89.416524 207.130676 \r\nL 89.568743 214.756364 \r\nL 89.644853 214.619759 \r\nL 89.720963 214.756283 \r\nL 89.797073 64.366436 \r\nL 89.873183 214.756359 \r\nL 89.949293 214.151948 \r\nL 90.025403 214.755178 \r\nL 90.101513 214.528685 \r\nL 90.329843 214.723405 \r\nL 90.405953 214.756364 \r\nL 90.482063 214.302594 \r\nL 90.634283 214.740944 \r\nL 90.710392 212.439261 \r\nL 90.786502 214.750224 \r\nL 90.862612 205.935113 \r\nL 90.938722 35.553162 \r\nL 91.014832 214.756354 \r\nL 91.090942 214.756297 \r\nL 91.167052 213.871984 \r\nL 91.319272 214.75633 \r\nL 91.547602 214.705969 \r\nL 91.775932 213.665259 \r\nL 91.928151 214.747521 \r\nL 92.004261 214.629324 \r\nL 92.080371 213.524332 \r\nL 92.156481 213.840147 \r\nL 92.232591 214.756364 \r\nL 92.308701 214.439736 \r\nL 92.384811 214.579781 \r\nL 92.460921 213.535175 \r\nL 92.537031 214.755117 \r\nL 92.689251 203.166208 \r\nL 92.765361 208.277402 \r\nL 93.0698 214.748092 \r\nL 93.29813 214.756364 \r\nL 93.45035 209.121273 \r\nL 93.52646 214.750029 \r\nL 93.60257 214.647856 \r\nL 93.75479 214.54309 \r\nL 93.8309 214.120848 \r\nL 93.90701 195.13077 \r\nL 93.98312 214.749091 \r\nL 94.05923 203.804276 \r\nL 94.21145 214.754036 \r\nL 94.439779 214.751004 \r\nL 94.515889 214.004199 \r\nL 94.668109 214.756364 \r\nL 95.276989 214.756364 \r\nL 95.353099 212.836047 \r\nL 95.505318 214.753808 \r\nL 95.809758 214.756364 \r\nL 95.885868 214.646034 \r\nL 96.038088 214.75514 \r\nL 96.951407 214.699371 \r\nL 97.027517 213.923909 \r\nL 97.103627 214.755764 \r\nL 97.255847 209.788133 \r\nL 97.331957 214.756164 \r\nL 97.408067 214.748848 \r\nL 97.864726 214.756126 \r\nL 97.940836 214.080219 \r\nL 98.093056 214.751614 \r\nL 98.245276 214.750129 \r\nL 98.321386 214.573246 \r\nL 98.397496 213.8926 \r\nL 98.473606 214.756364 \r\nL 98.549716 213.782003 \r\nL 98.701936 214.756364 \r\nL 99.386925 214.756321 \r\nL 99.463035 214.600528 \r\nL 99.615255 214.723985 \r\nL 99.767475 214.708493 \r\nL 99.919695 214.741787 \r\nL 100.604684 214.756364 \r\nL 100.680794 214.755907 \r\nL 100.756904 212.931476 \r\nL 100.833014 214.747792 \r\nL 100.909124 214.265254 \r\nL 101.061344 214.744537 \r\nL 101.137454 214.756211 \r\nL 101.289674 214.524279 \r\nL 101.441893 214.756307 \r\nL 101.594113 214.756164 \r\nL 101.670223 214.262617 \r\nL 101.822443 214.755231 \r\nL 101.898553 214.756364 \r\nL 101.974663 214.63693 \r\nL 102.126883 214.756359 \r\nL 102.507433 214.756364 \r\nL 102.659652 213.475624 \r\nL 102.811872 214.754022 \r\nL 102.887982 214.756002 \r\nL 102.964092 214.375229 \r\nL 103.116312 214.75633 \r\nL 105.24739 214.756364 \r\nL 105.3235 213.014491 \r\nL 105.47572 214.756359 \r\nL 105.62794 214.723225 \r\nL 105.70405 214.508472 \r\nL 105.85627 214.754217 \r\nL 105.93238 214.754165 \r\nL 106.00849 214.618559 \r\nL 106.0846 208.497784 \r\nL 106.16071 214.667082 \r\nL 106.23682 214.56388 \r\nL 106.389039 214.753127 \r\nL 107.759018 214.756311 \r\nL 107.835128 214.657143 \r\nL 107.911238 214.756359 \r\nL 107.987348 213.972766 \r\nL 108.139568 214.746992 \r\nL 108.520118 214.756359 \r\nL 108.596228 214.486897 \r\nL 108.748447 214.756321 \r\nL 109.661767 214.672767 \r\nL 109.737877 214.486779 \r\nL 109.813987 214.755421 \r\nL 109.890096 214.648545 \r\nL 110.042316 214.755531 \r\nL 110.803416 214.75634 \r\nL 110.879526 213.362314 \r\nL 110.955636 214.755907 \r\nL 111.031746 213.181768 \r\nL 111.183965 214.754983 \r\nL 111.564515 214.756335 \r\nL 111.640625 214.498851 \r\nL 111.792845 214.756364 \r\nL 112.782274 214.75495 \r\nL 112.858384 214.368407 \r\nL 113.010604 214.75634 \r\nL 113.162824 214.756349 \r\nL 113.238934 214.564036 \r\nL 113.391154 214.756207 \r\nL 114.456693 214.755269 \r\nL 114.532803 214.456296 \r\nL 114.685022 214.756364 \r\nL 114.837242 214.756364 \r\nL 114.913352 214.519926 \r\nL 115.065572 214.756249 \r\nL 115.370012 214.756354 \r\nL 115.446122 194.102198 \r\nL 115.598342 214.756335 \r\nL 115.826672 214.756364 \r\nL 115.902781 213.372524 \r\nL 116.055001 214.756364 \r\nL 116.283331 214.756116 \r\nL 116.359441 214.309376 \r\nL 116.435551 214.349118 \r\nL 116.511661 214.756345 \r\nL 116.587771 214.620348 \r\nL 116.739991 214.755021 \r\nL 116.816101 214.626083 \r\nL 116.968321 214.756364 \r\nL 117.19665 214.756364 \r\nL 117.27276 207.750294 \r\nL 117.34887 214.756311 \r\nL 117.42498 214.72516 \r\nL 117.50109 187.079754 \r\nL 117.65331 214.756364 \r\nL 118.414409 214.756097 \r\nL 118.490519 214.624755 \r\nL 118.642739 214.756364 \r\nL 119.023289 214.75633 \r\nL 119.099399 209.829655 \r\nL 119.251619 214.756364 \r\nL 120.469378 214.756359 \r\nL 120.545488 208.113279 \r\nL 120.697707 214.756364 \r\nL 121.991576 214.756364 \r\nL 122.067686 214.562336 \r\nL 122.219906 214.727515 \r\nL 122.600456 214.756311 \r\nL 122.904896 214.756049 \r\nL 122.981006 214.148784 \r\nL 123.133225 214.748601 \r\nL 123.589885 214.756364 \r\nL 123.665995 214.56199 \r\nL 123.742105 213.119443 \r\nL 123.894325 214.756364 \r\nL 124.198765 214.687813 \r\nL 124.274874 212.854397 \r\nL 124.427094 214.756249 \r\nL 125.568743 214.756364 \r\nL 125.644853 213.719324 \r\nL 125.797073 214.756364 \r\nL 125.949293 214.756364 \r\nL 126.025403 211.001779 \r\nL 126.177623 214.756335 \r\nL 128.537031 214.756364 \r\nL 128.613141 214.548275 \r\nL 128.765361 214.756359 \r\nL 129.37424 214.756364 \r\nL 129.45035 214.414229 \r\nL 129.60257 214.756364 \r\nL 130.744219 214.756259 \r\nL 130.972549 214.756326 \r\nL 131.048659 213.914862 \r\nL 131.200879 214.756364 \r\nL 132.494748 214.744323 \r\nL 132.570858 214.489152 \r\nL 132.723077 214.756364 \r\nL 135.158595 214.752323 \r\nL 135.234705 213.833426 \r\nL 135.386925 214.756292 \r\nL 136.224135 214.756364 \r\nL 136.300244 214.510903 \r\nL 136.452464 214.756364 \r\nL 143.530688 214.734022 \r\nL 143.606798 214.432667 \r\nL 143.759018 214.756364 \r\nL 144.063458 214.756364 \r\nL 144.139568 204.514933 \r\nL 144.291788 214.756364 \r\nL 145.661767 214.756364 \r\nL 146.803416 214.756364 \r\nL 146.879526 211.542168 \r\nL 147.031746 214.755307 \r\nL 155.175509 214.756307 \r\nL 155.251619 214.533783 \r\nL 155.403839 214.756364 \r\nL 157.154367 214.753217 \r\nL 157.230477 214.603008 \r\nL 157.382697 214.756364 \r\nL 159.361555 214.75633 \r\nL 159.437665 211.870552 \r\nL 159.589885 214.756364 \r\nL 161.112084 214.756364 \r\nL 161.188194 212.037324 \r\nL 161.340414 214.756364 \r\nL 161.416524 214.756364 \r\nL 161.492633 214.610638 \r\nL 161.644853 214.756359 \r\nL 162.329843 214.756364 \r\nL 162.405953 214.443495 \r\nL 162.558173 214.756364 \r\nL 165.60257 214.755678 \r\nL 165.67868 214.325346 \r\nL 165.8309 214.756364 \r\nL 166.439779 214.756364 \r\nL 166.515889 211.701198 \r\nL 166.668109 214.756364 \r\nL 166.744219 214.756364 \r\nL 166.820329 214.598532 \r\nL 166.972549 214.756335 \r\nL 167.429209 214.756345 \r\nL 167.505318 204.633571 \r\nL 167.657538 214.756364 \r\nL 176.866841 214.756359 \r\nL 176.942951 212.998309 \r\nL 177.09517 214.756359 \r\nL 179.606798 214.756364 \r\nL 179.682908 214.311702 \r\nL 179.835128 214.756354 \r\nL 181.128997 214.756359 \r\nL 181.205107 213.992066 \r\nL 181.357327 214.756364 \r\nL 188.207221 214.756364 \r\nL 188.283331 214.621548 \r\nL 188.435551 214.756364 \r\nL 189.72942 214.756359 \r\nL 189.80553 214.392243 \r\nL 189.95775 214.756364 \r\nL 190.490519 214.75634 \r\nL 190.566629 209.914136 \r\nL 190.718849 214.756168 \r\nL 193.915466 214.756364 \r\nL 193.991576 214.438522 \r\nL 194.143796 214.756364 \r\nL 203.961978 214.756364 \r\nL 204.038088 211.703676 \r\nL 204.190308 214.756364 \r\nL 205.331957 214.756364 \r\nL 205.408067 214.302783 \r\nL 205.560287 214.756364 \r\nL 207.767475 214.756354 \r\nL 207.843585 213.614284 \r\nL 207.995805 214.756364 \r\nL 209.061344 214.756364 \r\nL 209.137454 214.605626 \r\nL 209.289674 214.756364 \r\nL 216.444008 214.756364 \r\nL 216.520118 214.576748 \r\nL 216.672337 214.756302 \r\nL 224.131111 214.743409 \r\nL 224.207221 214.584321 \r\nL 224.283331 214.756364 \r\nL 224.359441 214.651849 \r\nL 224.511661 214.756292 \r\nL 229.915466 214.756364 \r\nL 229.991576 214.470027 \r\nL 230.143796 214.756364 \r\nL 231.818215 214.756364 \r\nL 231.894325 212.802025 \r\nL 232.046545 214.756364 \r\nL 235.243162 214.756364 \r\nL 235.319272 214.63833 \r\nL 235.471492 214.756364 \r\nL 237.75479 214.756364 \r\nL 237.8309 214.618128 \r\nL 237.98312 214.756321 \r\nL 241.331957 214.756364 \r\nL 241.408067 214.10681 \r\nL 241.560287 214.756359 \r\nL 241.788617 214.756364 \r\nL 241.864726 213.546395 \r\nL 242.016946 214.756364 \r\nL 249.78016 214.756364 \r\nL 249.85627 214.583482 \r\nL 250.00849 214.756364 \r\nL 255.107855 214.756349 \r\nL 255.183965 205.561526 \r\nL 255.336185 214.756364 \r\nL 259.978891 214.756364 \r\nL 260.055001 214.101875 \r\nL 260.207221 214.756364 \r\nL 260.283331 214.756321 \r\nL 260.359441 191.821001 \r\nL 260.511661 214.756364 \r\nL 263.708278 214.75595 \r\nL 263.784388 214.636646 \r\nL 263.860498 214.100788 \r\nL 264.012718 214.756364 \r\nL 264.088828 211.850755 \r\nL 264.241048 214.756364 \r\nL 283.877411 214.75524 \r\nL 283.953521 214.050596 \r\nL 284.105741 214.756364 \r\nL 288.063458 214.756364 \r\nL 288.139568 212.976734 \r\nL 288.291788 214.756364 \r\nL 291.716735 214.756364 \r\nL 291.792845 214.432124 \r\nL 291.945065 214.756359 \r\nL 299.479948 214.756364 \r\nL 299.556058 207.04849 \r\nL 299.708278 214.756364 \r\nL 301.839357 214.756364 \r\nL 301.915466 213.909941 \r\nL 302.067686 214.756364 \r\nL 308.689251 214.756364 \r\nL 308.765361 214.592303 \r\nL 308.841471 214.756364 \r\nL 308.917581 214.378883 \r\nL 309.0698 214.756364 \r\nL 311.733648 214.756364 \r\nL 311.809758 214.151616 \r\nL 311.961978 214.756364 \r\nL 315.310815 214.756364 \r\nL 315.386925 211.54016 \r\nL 315.539145 214.756364 \r\nL 324.367898 214.756364 \r\nL 324.444008 213.980828 \r\nL 324.596228 214.756364 \r\nL 328.173395 214.756364 \r\nL 328.249504 214.571545 \r\nL 328.401724 214.756364 \r\nL 334.262189 214.756364 \r\nL 334.338299 213.758375 \r\nL 334.490519 214.756364 \r\nL 342.025403 214.756364 \r\nL 342.101513 213.908342 \r\nL 342.253733 214.756364 \r\nL 353.441893 214.756364 \r\nL 353.518003 214.559991 \r\nL 353.670223 214.756364 \r\nL 353.822443 214.756364 \r\nL 353.822443 214.756364 \r\n\" style=\"fill:none;stroke:#1f77b4;stroke-linecap:square;stroke-width:1.5;\"/>\r\n   </g>\r\n   <g id=\"patch_3\">\r\n    <path d=\"M 34.240625 224.64 \r\nL 34.240625 7.2 \r\n\" style=\"fill:none;stroke:#000000;stroke-linecap:square;stroke-linejoin:miter;stroke-width:0.8;\"/>\r\n   </g>\r\n   <g id=\"patch_4\">\r\n    <path d=\"M 369.040625 224.64 \r\nL 369.040625 7.2 \r\n\" style=\"fill:none;stroke:#000000;stroke-linecap:square;stroke-linejoin:miter;stroke-width:0.8;\"/>\r\n   </g>\r\n   <g id=\"patch_5\">\r\n    <path d=\"M 34.240625 224.64 \r\nL 369.040625 224.64 \r\n\" style=\"fill:none;stroke:#000000;stroke-linecap:square;stroke-linejoin:miter;stroke-width:0.8;\"/>\r\n   </g>\r\n   <g id=\"patch_6\">\r\n    <path d=\"M 34.240625 7.2 \r\nL 369.040625 7.2 \r\n\" style=\"fill:none;stroke:#000000;stroke-linecap:square;stroke-linejoin:miter;stroke-width:0.8;\"/>\r\n   </g>\r\n  </g>\r\n </g>\r\n <defs>\r\n  <clipPath id=\"p7d5e619ece\">\r\n   <rect height=\"217.44\" width=\"334.8\" x=\"34.240625\" y=\"7.2\"/>\r\n  </clipPath>\r\n </defs>\r\n</svg>\r\n",
      "image/png": "[encoded data removed]"
     },
     "metadata": {
      "needs_background": "light"
     }
    }
   ],
   "source": [
    "plt.plot(loss_tracker)                               \n",
    "plt.xlabel(\"iterations\")\n",
    "plt.ylabel(\"loss\")\n",
    "plt.show()"
   ]
  },
  {
   "cell_type": "code",
   "execution_count": 49,
   "metadata": {
    "tags": []
   },
   "outputs": [
    {
     "output_type": "display_data",
     "data": {
      "text/plain": "HBox(children=(FloatProgress(value=0.0, layout=Layout(flex='2')), HTML(value='')), layout=Layout(display='inli…",
      "application/vnd.jupyter.widget-view+json": {
       "version_major": 2,
       "version_minor": 0,
       "model_id": "67df000de125482aaa6e269a63494862"
      }
     },
     "metadata": {}
    },
    {
     "output_type": "stream",
     "name": "stdout",
     "text": [
      "\n"
     ]
    }
   ],
   "source": [
    "correct=0 \n",
    "total_loss=[]\n",
    "    \n",
    "progress_bar = tqdm(test_loader, ncols=1000)\n",
    "\n",
    "  # We load a batch of images and their corresponding labels here and continue\n",
    "  # until we trained on all batches.\n",
    "with torch.no_grad():\n",
    "    for i, (images, labels) in enumerate(progress_bar):\n",
    "    # Convert torch tensor to a vector of size 784 in order to send it to input\n",
    "    # layer\n",
    "        images = Variable(images)\n",
    "        labels = Variable(labels)\n",
    "    \n",
    "        outputs = net(images)\n",
    "        pred = torch.argmax(outputs, dim=1) \n",
    "\n",
    "    \n",
    "        loss = criterion(outputs, labels)\n",
    "        total_loss.append(loss.item())\n",
    "    \n",
    "        correct+= torch.sum(pred==labels).float()\n",
    "\n"
   ]
  },
  {
   "cell_type": "code",
   "execution_count": 50,
   "metadata": {},
   "outputs": [
    {
     "output_type": "stream",
     "name": "stdout",
     "text": [
      "The recorded accuracies are:\n Accuracy: 1.0000\nLoss: 0.0011\n"
     ]
    }
   ],
   "source": [
    "    \n",
    "print(\"The recorded accuracies are:\\n Accuracy: {:.4f}\\nLoss: {:.4f}\".format(correct/len(test_set), sum(total_loss)/len(total_loss)))\n"
   ]
  },
  {
   "cell_type": "code",
   "execution_count": 51,
   "metadata": {},
   "outputs": [],
   "source": [
    "PATH=\"model_dict.pt\"\n",
    "torch.save(net.state_dict(), PATH)"
   ]
  },
  {
   "cell_type": "code",
   "execution_count": null,
   "metadata": {},
   "outputs": [],
   "source": []
  }
 ],
 "metadata": {
  "kernelspec": {
   "name": "python376jvsc74a57bd09077d01e7226f78a116d2f33a753bb80f066b4f9d1a7629e908d03a599f1d560",
   "display_name": "Python 3.7.6 64-bit ('base': conda)"
  },
  "language_info": {
   "codemirror_mode": {
    "name": "ipython",
    "version": 3
   },
   "file_extension": ".py",
   "mimetype": "text/x-python",
   "name": "python",
   "nbconvert_exporter": "python",
   "pygments_lexer": "ipython3",
   "version": "3.7.6"
  }
 },
 "nbformat": 4,
 "nbformat_minor": 4
}