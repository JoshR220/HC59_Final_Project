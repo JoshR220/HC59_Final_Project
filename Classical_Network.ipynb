{
 "cells": [
  {
   "cell_type": "code",
   "execution_count": 1,
   "metadata": {},
   "outputs": [],
   "source": [
    "# Importing necessary libraries for training and visualization\n",
    "import numpy as np\n",
    "import torch\n",
    "import torchvision\n",
    "from time import time\n",
    "from torchvision import datasets, transforms\n",
    "from torch import nn, optim\n",
    "from torch.utils.data.sampler import SubsetRandomSampler\n",
    "from torch.autograd import Variable\n",
    "import torch.nn.functional as F\n",
    "from torch.utils.data import DataLoader\n",
    "\n",
    "\n",
    "%matplotlib inline\n",
    "import matplotlib.pyplot as plt\n",
    "from tqdm.notebook import tqdm, trange"
   ]
  },
  {
   "cell_type": "code",
   "execution_count": 2,
   "metadata": {},
   "outputs": [],
   "source": [
    "n_samples = 100\n",
    "\n",
    "train_set = datasets.MNIST(root='./data', train=True, download=True,\n",
    "                         transform=transforms.Compose([transforms.ToTensor()]))\n",
    "\n",
    "\n",
    "idx = np.append(np.where(train_set.targets == 0)[0][:n_samples], \n",
    "                np.where(train_set.targets == 1)[0][:n_samples])\n",
    "\n",
    "train_set.data = train_set.data[idx]\n",
    "train_set.targets = train_set.targets[idx]\n",
    "\n",
    "train_loader = torch.utils.data.DataLoader(train_set, batch_size=1, shuffle=True)"
   ]
  },
  {
   "cell_type": "code",
   "execution_count": 3,
   "metadata": {},
   "outputs": [],
   "source": [
    "n_samples = 50\n",
    "\n",
    "test_set = datasets.MNIST(root='./data', train=False, download=True,\n",
    "                        transform=transforms.Compose([transforms.ToTensor()]))\n",
    "\n",
    "idx = np.append(np.where(test_set.targets == 0)[0][:n_samples], \n",
    "                np.where(test_set.targets == 1)[0][:n_samples])\n",
    "\n",
    "test_set.data = test_set.data[idx]\n",
    "test_set.targets = test_set.targets[idx]\n",
    "\n",
    "test_loader = torch.utils.data.DataLoader(test_set, batch_size=1, shuffle=True)"
   ]
  },
  {
   "cell_type": "code",
   "execution_count": 4,
   "metadata": {},
   "outputs": [],
   "source": [
    "mean = (0.5,)\n",
    "std_dev = (0.5,)\n",
    "\n",
    "normalization_transforms = [transforms.ToTensor(), \n",
    "                            transforms.Normalize(mean, std_dev)]\n",
    "\n",
    "\n",
    "transform = transforms.Compose(normalization_transforms)"
   ]
  },
  {
   "cell_type": "code",
   "execution_count": 5,
   "metadata": {},
   "outputs": [],
   "source": [
    "class Net(nn.Module):\n",
    "    def __init__(self):\n",
    "        super(Net, self).__init__()\n",
    "        self.conv1 = nn.Conv2d(1, 6, kernel_size=5)\n",
    "        self.conv2 = nn.Conv2d(6, 16, kernel_size=5)\n",
    "        self.dropout = nn.Dropout2d()\n",
    "        self.fc1=nn.Linear\n",
    "        self.fc1 = nn.Linear(256, 64)\n",
    "        \n",
    "        self.fc2 = nn.Linear(64, 4)\n",
    "    \n",
    "\n",
    "    def forward(self, x):\n",
    "        x = F.relu(self.conv1(x))\n",
    "        x = F.max_pool2d(x, 2)\n",
    "        x = F.relu(self.conv2(x))\n",
    "        x = F.max_pool2d(x, 2)\n",
    "        #print(x.shape)\n",
    "        x = self.dropout(x)\n",
    "        x = x.view(1, -1)\n",
    "      \n",
    "        x = F.relu(self.fc1(x))\n",
    "        x = self.fc2(x)\n",
    "    \n",
    "        return x"
   ]
  },
  {
   "cell_type": "code",
   "execution_count": 6,
   "metadata": {},
   "outputs": [],
   "source": [
    "net=Net()\n",
    "criterion = nn.CrossEntropyLoss()\n",
    "optimizer = torch.optim.Adam(net.parameters(), lr=0.001)"
   ]
  },
  {
   "cell_type": "code",
   "execution_count": 7,
   "metadata": {},
   "outputs": [
    {
     "output_type": "display_data",
     "data": {
      "text/plain": "HBox(children=(FloatProgress(value=0.0, layout=Layout(flex='2'), max=200.0), HTML(value='')), layout=Layout(di…",
      "application/vnd.jupyter.widget-view+json": {
       "version_major": 2,
       "version_minor": 0,
       "model_id": "9dd02f1ec703465c8a74831b44f71ec1"
      }
     },
     "metadata": {}
    },
    {
     "output_type": "stream",
     "name": "stdout",
     "text": [
      "\n"
     ]
    },
    {
     "output_type": "display_data",
     "data": {
      "text/plain": "HBox(children=(FloatProgress(value=0.0, layout=Layout(flex='2'), max=200.0), HTML(value='')), layout=Layout(di…",
      "application/vnd.jupyter.widget-view+json": {
       "version_major": 2,
       "version_minor": 0,
       "model_id": "67fb3b2a1e7c4f85a829f68bda2e795c"
      }
     },
     "metadata": {}
    },
    {
     "output_type": "stream",
     "name": "stdout",
     "text": [
      "\n"
     ]
    },
    {
     "output_type": "display_data",
     "data": {
      "text/plain": "HBox(children=(FloatProgress(value=0.0, layout=Layout(flex='2'), max=200.0), HTML(value='')), layout=Layout(di…",
      "application/vnd.jupyter.widget-view+json": {
       "version_major": 2,
       "version_minor": 0,
       "model_id": "dc8722bd8e43443ea68209e56ef00915"
      }
     },
     "metadata": {}
    },
    {
     "output_type": "stream",
     "name": "stdout",
     "text": [
      "\n"
     ]
    },
    {
     "output_type": "display_data",
     "data": {
      "text/plain": "HBox(children=(FloatProgress(value=0.0, layout=Layout(flex='2'), max=200.0), HTML(value='')), layout=Layout(di…",
      "application/vnd.jupyter.widget-view+json": {
       "version_major": 2,
       "version_minor": 0,
       "model_id": "21a2b9478d5f442ebfb7406245ffbf75"
      }
     },
     "metadata": {}
    },
    {
     "output_type": "stream",
     "name": "stdout",
     "text": [
      "\n"
     ]
    },
    {
     "output_type": "display_data",
     "data": {
      "text/plain": "HBox(children=(FloatProgress(value=0.0, layout=Layout(flex='2'), max=200.0), HTML(value='')), layout=Layout(di…",
      "application/vnd.jupyter.widget-view+json": {
       "version_major": 2,
       "version_minor": 0,
       "model_id": "7ca5fb3abfb04829b1028edbe25028f1"
      }
     },
     "metadata": {}
    },
    {
     "output_type": "stream",
     "name": "stdout",
     "text": [
      "\n"
     ]
    },
    {
     "output_type": "display_data",
     "data": {
      "text/plain": "HBox(children=(FloatProgress(value=0.0, layout=Layout(flex='2'), max=200.0), HTML(value='')), layout=Layout(di…",
      "application/vnd.jupyter.widget-view+json": {
       "version_major": 2,
       "version_minor": 0,
       "model_id": "8e82a2e7cacd4be5bb00b7e956d53e1e"
      }
     },
     "metadata": {}
    },
    {
     "output_type": "stream",
     "name": "stdout",
     "text": [
      "\n"
     ]
    },
    {
     "output_type": "display_data",
     "data": {
      "text/plain": "HBox(children=(FloatProgress(value=0.0, layout=Layout(flex='2'), max=200.0), HTML(value='')), layout=Layout(di…",
      "application/vnd.jupyter.widget-view+json": {
       "version_major": 2,
       "version_minor": 0,
       "model_id": "014bdbbe23eb4076aa88174a43ecd237"
      }
     },
     "metadata": {}
    },
    {
     "output_type": "stream",
     "name": "stdout",
     "text": [
      "\n"
     ]
    },
    {
     "output_type": "display_data",
     "data": {
      "text/plain": "HBox(children=(FloatProgress(value=0.0, layout=Layout(flex='2'), max=200.0), HTML(value='')), layout=Layout(di…",
      "application/vnd.jupyter.widget-view+json": {
       "version_major": 2,
       "version_minor": 0,
       "model_id": "4b3598e647db4b9b88c97fa903aa92b5"
      }
     },
     "metadata": {}
    },
    {
     "output_type": "stream",
     "name": "stdout",
     "text": [
      "\n"
     ]
    },
    {
     "output_type": "display_data",
     "data": {
      "text/plain": "HBox(children=(FloatProgress(value=0.0, layout=Layout(flex='2'), max=200.0), HTML(value='')), layout=Layout(di…",
      "application/vnd.jupyter.widget-view+json": {
       "version_major": 2,
       "version_minor": 0,
       "model_id": "8d7542cbe27e495d8cfe11f6bb1ec7df"
      }
     },
     "metadata": {}
    },
    {
     "output_type": "stream",
     "name": "stdout",
     "text": [
      "\n"
     ]
    },
    {
     "output_type": "display_data",
     "data": {
      "text/plain": "HBox(children=(FloatProgress(value=0.0, layout=Layout(flex='2'), max=200.0), HTML(value='')), layout=Layout(di…",
      "application/vnd.jupyter.widget-view+json": {
       "version_major": 2,
       "version_minor": 0,
       "model_id": "d86366da3724482581649978ceab4585"
      }
     },
     "metadata": {}
    },
    {
     "output_type": "stream",
     "name": "stdout",
     "text": [
      "\n"
     ]
    },
    {
     "output_type": "display_data",
     "data": {
      "text/plain": "HBox(children=(FloatProgress(value=0.0, layout=Layout(flex='2'), max=200.0), HTML(value='')), layout=Layout(di…",
      "application/vnd.jupyter.widget-view+json": {
       "version_major": 2,
       "version_minor": 0,
       "model_id": "9793c2fd80654d3e950b569e34ca6bc1"
      }
     },
     "metadata": {}
    },
    {
     "output_type": "stream",
     "name": "stdout",
     "text": [
      "\n"
     ]
    },
    {
     "output_type": "display_data",
     "data": {
      "text/plain": "HBox(children=(FloatProgress(value=0.0, layout=Layout(flex='2'), max=200.0), HTML(value='')), layout=Layout(di…",
      "application/vnd.jupyter.widget-view+json": {
       "version_major": 2,
       "version_minor": 0,
       "model_id": "1623920070bf4e428a03da5a1516dbc2"
      }
     },
     "metadata": {}
    },
    {
     "output_type": "stream",
     "name": "stdout",
     "text": [
      "\n"
     ]
    },
    {
     "output_type": "display_data",
     "data": {
      "text/plain": "HBox(children=(FloatProgress(value=0.0, layout=Layout(flex='2'), max=200.0), HTML(value='')), layout=Layout(di…",
      "application/vnd.jupyter.widget-view+json": {
       "version_major": 2,
       "version_minor": 0,
       "model_id": "ac9d1967507849f3b298329ee498ad15"
      }
     },
     "metadata": {}
    },
    {
     "output_type": "stream",
     "name": "stdout",
     "text": [
      "\n"
     ]
    },
    {
     "output_type": "display_data",
     "data": {
      "text/plain": "HBox(children=(FloatProgress(value=0.0, layout=Layout(flex='2'), max=200.0), HTML(value='')), layout=Layout(di…",
      "application/vnd.jupyter.widget-view+json": {
       "version_major": 2,
       "version_minor": 0,
       "model_id": "0e754d9a676a495c9b803ccf73f425d5"
      }
     },
     "metadata": {}
    },
    {
     "output_type": "stream",
     "name": "stdout",
     "text": [
      "\n"
     ]
    },
    {
     "output_type": "display_data",
     "data": {
      "text/plain": "HBox(children=(FloatProgress(value=0.0, layout=Layout(flex='2'), max=200.0), HTML(value='')), layout=Layout(di…",
      "application/vnd.jupyter.widget-view+json": {
       "version_major": 2,
       "version_minor": 0,
       "model_id": "4028143709ca4f02b343973064afffcb"
      }
     },
     "metadata": {}
    },
    {
     "output_type": "stream",
     "name": "stdout",
     "text": [
      "\n"
     ]
    },
    {
     "output_type": "display_data",
     "data": {
      "text/plain": "HBox(children=(FloatProgress(value=0.0, layout=Layout(flex='2'), max=200.0), HTML(value='')), layout=Layout(di…",
      "application/vnd.jupyter.widget-view+json": {
       "version_major": 2,
       "version_minor": 0,
       "model_id": "0213a2f45a324fba835fad7219d0a4e3"
      }
     },
     "metadata": {}
    },
    {
     "output_type": "stream",
     "name": "stdout",
     "text": [
      "\n"
     ]
    },
    {
     "output_type": "display_data",
     "data": {
      "text/plain": "HBox(children=(FloatProgress(value=0.0, layout=Layout(flex='2'), max=200.0), HTML(value='')), layout=Layout(di…",
      "application/vnd.jupyter.widget-view+json": {
       "version_major": 2,
       "version_minor": 0,
       "model_id": "3627ff5ecca541ce814a8b0cbc21021a"
      }
     },
     "metadata": {}
    },
    {
     "output_type": "stream",
     "name": "stdout",
     "text": [
      "\n"
     ]
    },
    {
     "output_type": "display_data",
     "data": {
      "text/plain": "HBox(children=(FloatProgress(value=0.0, layout=Layout(flex='2'), max=200.0), HTML(value='')), layout=Layout(di…",
      "application/vnd.jupyter.widget-view+json": {
       "version_major": 2,
       "version_minor": 0,
       "model_id": "393d5824206341a8b9273118fb69587e"
      }
     },
     "metadata": {}
    },
    {
     "output_type": "stream",
     "name": "stdout",
     "text": [
      "\n"
     ]
    },
    {
     "output_type": "display_data",
     "data": {
      "text/plain": "HBox(children=(FloatProgress(value=0.0, layout=Layout(flex='2'), max=200.0), HTML(value='')), layout=Layout(di…",
      "application/vnd.jupyter.widget-view+json": {
       "version_major": 2,
       "version_minor": 0,
       "model_id": "1f8173ed14184545a3be54ef77d48a8e"
      }
     },
     "metadata": {}
    },
    {
     "output_type": "stream",
     "name": "stdout",
     "text": [
      "\n"
     ]
    },
    {
     "output_type": "display_data",
     "data": {
      "text/plain": "HBox(children=(FloatProgress(value=0.0, layout=Layout(flex='2'), max=200.0), HTML(value='')), layout=Layout(di…",
      "application/vnd.jupyter.widget-view+json": {
       "version_major": 2,
       "version_minor": 0,
       "model_id": "1e2b28144a3f452b839a14d4712bf123"
      }
     },
     "metadata": {}
    },
    {
     "output_type": "stream",
     "name": "stdout",
     "text": [
      "\n"
     ]
    }
   ],
   "source": [
    "num_epochs = 20\n",
    "\n",
    "loss_tracker = []\n",
    "\n",
    "for epoch in range(num_epochs):\n",
    "  # Initialize random value for loss just for displaying purposes\n",
    "\n",
    "  # Using the tqdm for nice training visuals\n",
    "  progress_bar = tqdm(train_loader, ncols=1000)\n",
    "\n",
    "  # We load a batch of images and their corresponding labels here and continue\n",
    "  # until we trained on all batches.\n",
    "  for i, (images, labels) in enumerate(progress_bar):\n",
    "    # Convert torch tensor to a vector of size 784 in order to send it to input\n",
    "    # layer\n",
    "    images = Variable(images)\n",
    "    labels = Variable(labels)\n",
    "\n",
    "    # Clear the gradients before performing backpropagation\n",
    "    optimizer.zero_grad()\n",
    "    # Perform the forward pass - this call of net calls the forward() fn\n",
    "    outputs = net(images)\n",
    "    # Compute loss on the output of the forward pass and desired label\n",
    "    loss = criterion(outputs, labels)\n",
    "    # Compute the gradients with respect to the loss function\n",
    "    loss.backward()      \n",
    "    # Update the weights in the neural network using the optimizer/backprop\n",
    "    optimizer.step()\n",
    "\n",
    "    # Track losses for plotting later\n",
    "    loss_tracker.append(loss.data)   "
   ]
  },
  {
   "cell_type": "code",
   "execution_count": 8,
   "metadata": {},
   "outputs": [
    {
     "output_type": "display_data",
     "data": {
      "text/plain": "<Figure size 432x288 with 1 Axes>",
      "image/svg+xml": "<?xml version=\"1.0\" encoding=\"utf-8\" standalone=\"no\"?>\r\n<!DOCTYPE svg PUBLIC \"-//W3C//DTD SVG 1.1//EN\"\r\n  \"http://www.w3.org/Graphics/SVG/1.1/DTD/svg11.dtd\">\r\n<!-- Created with matplotlib (https://matplotlib.org/) -->\r\n<svg height=\"262.19625pt\" version=\"1.1\" viewBox=\"0 0 382.603125 262.19625\" width=\"382.603125pt\" xmlns=\"http://www.w3.org/2000/svg\" xmlns:xlink=\"http://www.w3.org/1999/xlink\">\r\n <defs>\r\n  <style type=\"text/css\">\r\n*{stroke-linecap:butt;stroke-linejoin:round;}\r\n  </style>\r\n </defs>\r\n <g id=\"figure_1\">\r\n  <g id=\"patch_1\">\r\n   <path d=\"M 0 262.19625 \r\nL 382.603125 262.19625 \r\nL 382.603125 0 \r\nL 0 0 \r\nz\r\n\" style=\"fill:none;\"/>\r\n  </g>\r\n  <g id=\"axes_1\">\r\n   <g id=\"patch_2\">\r\n    <path d=\"M 40.603125 224.64 \r\nL 375.403125 224.64 \r\nL 375.403125 7.2 \r\nL 40.603125 7.2 \r\nz\r\n\" style=\"fill:#ffffff;\"/>\r\n   </g>\r\n   <g id=\"matplotlib.axis_1\">\r\n    <g id=\"xtick_1\">\r\n     <g id=\"line2d_1\">\r\n      <defs>\r\n       <path d=\"M 0 0 \r\nL 0 3.5 \r\n\" id=\"m844562745b\" style=\"stroke:#000000;stroke-width:0.8;\"/>\r\n      </defs>\r\n      <g>\r\n       <use style=\"stroke:#000000;stroke-width:0.8;\" x=\"55.821307\" xlink:href=\"#m844562745b\" y=\"224.64\"/>\r\n      </g>\r\n     </g>\r\n     <g id=\"text_1\">\r\n      <!-- 0 -->\r\n      <defs>\r\n       <path d=\"M 31.78125 66.40625 \r\nQ 24.171875 66.40625 20.328125 58.90625 \r\nQ 16.5 51.421875 16.5 36.375 \r\nQ 16.5 21.390625 20.328125 13.890625 \r\nQ 24.171875 6.390625 31.78125 6.390625 \r\nQ 39.453125 6.390625 43.28125 13.890625 \r\nQ 47.125 21.390625 47.125 36.375 \r\nQ 47.125 51.421875 43.28125 58.90625 \r\nQ 39.453125 66.40625 31.78125 66.40625 \r\nz\r\nM 31.78125 74.21875 \r\nQ 44.046875 74.21875 50.515625 64.515625 \r\nQ 56.984375 54.828125 56.984375 36.375 \r\nQ 56.984375 17.96875 50.515625 8.265625 \r\nQ 44.046875 -1.421875 31.78125 -1.421875 \r\nQ 19.53125 -1.421875 13.0625 8.265625 \r\nQ 6.59375 17.96875 6.59375 36.375 \r\nQ 6.59375 54.828125 13.0625 64.515625 \r\nQ 19.53125 74.21875 31.78125 74.21875 \r\nz\r\n\" id=\"DejaVuSans-48\"/>\r\n      </defs>\r\n      <g transform=\"translate(52.640057 239.238437)scale(0.1 -0.1)\">\r\n       <use xlink:href=\"#DejaVuSans-48\"/>\r\n      </g>\r\n     </g>\r\n    </g>\r\n    <g id=\"xtick_2\">\r\n     <g id=\"line2d_2\">\r\n      <g>\r\n       <use style=\"stroke:#000000;stroke-width:0.8;\" x=\"93.876275\" xlink:href=\"#m844562745b\" y=\"224.64\"/>\r\n      </g>\r\n     </g>\r\n     <g id=\"text_2\">\r\n      <!-- 500 -->\r\n      <defs>\r\n       <path d=\"M 10.796875 72.90625 \r\nL 49.515625 72.90625 \r\nL 49.515625 64.59375 \r\nL 19.828125 64.59375 \r\nL 19.828125 46.734375 \r\nQ 21.96875 47.46875 24.109375 47.828125 \r\nQ 26.265625 48.1875 28.421875 48.1875 \r\nQ 40.625 48.1875 47.75 41.5 \r\nQ 54.890625 34.8125 54.890625 23.390625 \r\nQ 54.890625 11.625 47.5625 5.09375 \r\nQ 40.234375 -1.421875 26.90625 -1.421875 \r\nQ 22.3125 -1.421875 17.546875 -0.640625 \r\nQ 12.796875 0.140625 7.71875 1.703125 \r\nL 7.71875 11.625 \r\nQ 12.109375 9.234375 16.796875 8.0625 \r\nQ 21.484375 6.890625 26.703125 6.890625 \r\nQ 35.15625 6.890625 40.078125 11.328125 \r\nQ 45.015625 15.765625 45.015625 23.390625 \r\nQ 45.015625 31 40.078125 35.4375 \r\nQ 35.15625 39.890625 26.703125 39.890625 \r\nQ 22.75 39.890625 18.8125 39.015625 \r\nQ 14.890625 38.140625 10.796875 36.28125 \r\nz\r\n\" id=\"DejaVuSans-53\"/>\r\n      </defs>\r\n      <g transform=\"translate(84.332525 239.238437)scale(0.1 -0.1)\">\r\n       <use xlink:href=\"#DejaVuSans-53\"/>\r\n       <use x=\"63.623047\" xlink:href=\"#DejaVuSans-48\"/>\r\n       <use x=\"127.246094\" xlink:href=\"#DejaVuSans-48\"/>\r\n      </g>\r\n     </g>\r\n    </g>\r\n    <g id=\"xtick_3\">\r\n     <g id=\"line2d_3\">\r\n      <g>\r\n       <use style=\"stroke:#000000;stroke-width:0.8;\" x=\"131.931243\" xlink:href=\"#m844562745b\" y=\"224.64\"/>\r\n      </g>\r\n     </g>\r\n     <g id=\"text_3\">\r\n      <!-- 1000 -->\r\n      <defs>\r\n       <path d=\"M 12.40625 8.296875 \r\nL 28.515625 8.296875 \r\nL 28.515625 63.921875 \r\nL 10.984375 60.40625 \r\nL 10.984375 69.390625 \r\nL 28.421875 72.90625 \r\nL 38.28125 72.90625 \r\nL 38.28125 8.296875 \r\nL 54.390625 8.296875 \r\nL 54.390625 0 \r\nL 12.40625 0 \r\nz\r\n\" id=\"DejaVuSans-49\"/>\r\n      </defs>\r\n      <g transform=\"translate(119.206243 239.238437)scale(0.1 -0.1)\">\r\n       <use xlink:href=\"#DejaVuSans-49\"/>\r\n       <use x=\"63.623047\" xlink:href=\"#DejaVuSans-48\"/>\r\n       <use x=\"127.246094\" xlink:href=\"#DejaVuSans-48\"/>\r\n       <use x=\"190.869141\" xlink:href=\"#DejaVuSans-48\"/>\r\n      </g>\r\n     </g>\r\n    </g>\r\n    <g id=\"xtick_4\">\r\n     <g id=\"line2d_4\">\r\n      <g>\r\n       <use style=\"stroke:#000000;stroke-width:0.8;\" x=\"169.986212\" xlink:href=\"#m844562745b\" y=\"224.64\"/>\r\n      </g>\r\n     </g>\r\n     <g id=\"text_4\">\r\n      <!-- 1500 -->\r\n      <g transform=\"translate(157.261212 239.238437)scale(0.1 -0.1)\">\r\n       <use xlink:href=\"#DejaVuSans-49\"/>\r\n       <use x=\"63.623047\" xlink:href=\"#DejaVuSans-53\"/>\r\n       <use x=\"127.246094\" xlink:href=\"#DejaVuSans-48\"/>\r\n       <use x=\"190.869141\" xlink:href=\"#DejaVuSans-48\"/>\r\n      </g>\r\n     </g>\r\n    </g>\r\n    <g id=\"xtick_5\">\r\n     <g id=\"line2d_5\">\r\n      <g>\r\n       <use style=\"stroke:#000000;stroke-width:0.8;\" x=\"208.04118\" xlink:href=\"#m844562745b\" y=\"224.64\"/>\r\n      </g>\r\n     </g>\r\n     <g id=\"text_5\">\r\n      <!-- 2000 -->\r\n      <defs>\r\n       <path d=\"M 19.1875 8.296875 \r\nL 53.609375 8.296875 \r\nL 53.609375 0 \r\nL 7.328125 0 \r\nL 7.328125 8.296875 \r\nQ 12.9375 14.109375 22.625 23.890625 \r\nQ 32.328125 33.6875 34.8125 36.53125 \r\nQ 39.546875 41.84375 41.421875 45.53125 \r\nQ 43.3125 49.21875 43.3125 52.78125 \r\nQ 43.3125 58.59375 39.234375 62.25 \r\nQ 35.15625 65.921875 28.609375 65.921875 \r\nQ 23.96875 65.921875 18.8125 64.3125 \r\nQ 13.671875 62.703125 7.8125 59.421875 \r\nL 7.8125 69.390625 \r\nQ 13.765625 71.78125 18.9375 73 \r\nQ 24.125 74.21875 28.421875 74.21875 \r\nQ 39.75 74.21875 46.484375 68.546875 \r\nQ 53.21875 62.890625 53.21875 53.421875 \r\nQ 53.21875 48.921875 51.53125 44.890625 \r\nQ 49.859375 40.875 45.40625 35.40625 \r\nQ 44.1875 33.984375 37.640625 27.21875 \r\nQ 31.109375 20.453125 19.1875 8.296875 \r\nz\r\n\" id=\"DejaVuSans-50\"/>\r\n      </defs>\r\n      <g transform=\"translate(195.31618 239.238437)scale(0.1 -0.1)\">\r\n       <use xlink:href=\"#DejaVuSans-50\"/>\r\n       <use x=\"63.623047\" xlink:href=\"#DejaVuSans-48\"/>\r\n       <use x=\"127.246094\" xlink:href=\"#DejaVuSans-48\"/>\r\n       <use x=\"190.869141\" xlink:href=\"#DejaVuSans-48\"/>\r\n      </g>\r\n     </g>\r\n    </g>\r\n    <g id=\"xtick_6\">\r\n     <g id=\"line2d_6\">\r\n      <g>\r\n       <use style=\"stroke:#000000;stroke-width:0.8;\" x=\"246.096148\" xlink:href=\"#m844562745b\" y=\"224.64\"/>\r\n      </g>\r\n     </g>\r\n     <g id=\"text_6\">\r\n      <!-- 2500 -->\r\n      <g transform=\"translate(233.371148 239.238437)scale(0.1 -0.1)\">\r\n       <use xlink:href=\"#DejaVuSans-50\"/>\r\n       <use x=\"63.623047\" xlink:href=\"#DejaVuSans-53\"/>\r\n       <use x=\"127.246094\" xlink:href=\"#DejaVuSans-48\"/>\r\n       <use x=\"190.869141\" xlink:href=\"#DejaVuSans-48\"/>\r\n      </g>\r\n     </g>\r\n    </g>\r\n    <g id=\"xtick_7\">\r\n     <g id=\"line2d_7\">\r\n      <g>\r\n       <use style=\"stroke:#000000;stroke-width:0.8;\" x=\"284.151117\" xlink:href=\"#m844562745b\" y=\"224.64\"/>\r\n      </g>\r\n     </g>\r\n     <g id=\"text_7\">\r\n      <!-- 3000 -->\r\n      <defs>\r\n       <path d=\"M 40.578125 39.3125 \r\nQ 47.65625 37.796875 51.625 33 \r\nQ 55.609375 28.21875 55.609375 21.1875 \r\nQ 55.609375 10.40625 48.1875 4.484375 \r\nQ 40.765625 -1.421875 27.09375 -1.421875 \r\nQ 22.515625 -1.421875 17.65625 -0.515625 \r\nQ 12.796875 0.390625 7.625 2.203125 \r\nL 7.625 11.71875 \r\nQ 11.71875 9.328125 16.59375 8.109375 \r\nQ 21.484375 6.890625 26.8125 6.890625 \r\nQ 36.078125 6.890625 40.9375 10.546875 \r\nQ 45.796875 14.203125 45.796875 21.1875 \r\nQ 45.796875 27.640625 41.28125 31.265625 \r\nQ 36.765625 34.90625 28.71875 34.90625 \r\nL 20.21875 34.90625 \r\nL 20.21875 43.015625 \r\nL 29.109375 43.015625 \r\nQ 36.375 43.015625 40.234375 45.921875 \r\nQ 44.09375 48.828125 44.09375 54.296875 \r\nQ 44.09375 59.90625 40.109375 62.90625 \r\nQ 36.140625 65.921875 28.71875 65.921875 \r\nQ 24.65625 65.921875 20.015625 65.03125 \r\nQ 15.375 64.15625 9.8125 62.3125 \r\nL 9.8125 71.09375 \r\nQ 15.4375 72.65625 20.34375 73.4375 \r\nQ 25.25 74.21875 29.59375 74.21875 \r\nQ 40.828125 74.21875 47.359375 69.109375 \r\nQ 53.90625 64.015625 53.90625 55.328125 \r\nQ 53.90625 49.265625 50.4375 45.09375 \r\nQ 46.96875 40.921875 40.578125 39.3125 \r\nz\r\n\" id=\"DejaVuSans-51\"/>\r\n      </defs>\r\n      <g transform=\"translate(271.426117 239.238437)scale(0.1 -0.1)\">\r\n       <use xlink:href=\"#DejaVuSans-51\"/>\r\n       <use x=\"63.623047\" xlink:href=\"#DejaVuSans-48\"/>\r\n       <use x=\"127.246094\" xlink:href=\"#DejaVuSans-48\"/>\r\n       <use x=\"190.869141\" xlink:href=\"#DejaVuSans-48\"/>\r\n      </g>\r\n     </g>\r\n    </g>\r\n    <g id=\"xtick_8\">\r\n     <g id=\"line2d_8\">\r\n      <g>\r\n       <use style=\"stroke:#000000;stroke-width:0.8;\" x=\"322.206085\" xlink:href=\"#m844562745b\" y=\"224.64\"/>\r\n      </g>\r\n     </g>\r\n     <g id=\"text_8\">\r\n      <!-- 3500 -->\r\n      <g transform=\"translate(309.481085 239.238437)scale(0.1 -0.1)\">\r\n       <use xlink:href=\"#DejaVuSans-51\"/>\r\n       <use x=\"63.623047\" xlink:href=\"#DejaVuSans-53\"/>\r\n       <use x=\"127.246094\" xlink:href=\"#DejaVuSans-48\"/>\r\n       <use x=\"190.869141\" xlink:href=\"#DejaVuSans-48\"/>\r\n      </g>\r\n     </g>\r\n    </g>\r\n    <g id=\"xtick_9\">\r\n     <g id=\"line2d_9\">\r\n      <g>\r\n       <use style=\"stroke:#000000;stroke-width:0.8;\" x=\"360.261053\" xlink:href=\"#m844562745b\" y=\"224.64\"/>\r\n      </g>\r\n     </g>\r\n     <g id=\"text_9\">\r\n      <!-- 4000 -->\r\n      <defs>\r\n       <path d=\"M 37.796875 64.3125 \r\nL 12.890625 25.390625 \r\nL 37.796875 25.390625 \r\nz\r\nM 35.203125 72.90625 \r\nL 47.609375 72.90625 \r\nL 47.609375 25.390625 \r\nL 58.015625 25.390625 \r\nL 58.015625 17.1875 \r\nL 47.609375 17.1875 \r\nL 47.609375 0 \r\nL 37.796875 0 \r\nL 37.796875 17.1875 \r\nL 4.890625 17.1875 \r\nL 4.890625 26.703125 \r\nz\r\n\" id=\"DejaVuSans-52\"/>\r\n      </defs>\r\n      <g transform=\"translate(347.536053 239.238437)scale(0.1 -0.1)\">\r\n       <use xlink:href=\"#DejaVuSans-52\"/>\r\n       <use x=\"63.623047\" xlink:href=\"#DejaVuSans-48\"/>\r\n       <use x=\"127.246094\" xlink:href=\"#DejaVuSans-48\"/>\r\n       <use x=\"190.869141\" xlink:href=\"#DejaVuSans-48\"/>\r\n      </g>\r\n     </g>\r\n    </g>\r\n    <g id=\"text_10\">\r\n     <!-- iterations -->\r\n     <defs>\r\n      <path d=\"M 9.421875 54.6875 \r\nL 18.40625 54.6875 \r\nL 18.40625 0 \r\nL 9.421875 0 \r\nz\r\nM 9.421875 75.984375 \r\nL 18.40625 75.984375 \r\nL 18.40625 64.59375 \r\nL 9.421875 64.59375 \r\nz\r\n\" id=\"DejaVuSans-105\"/>\r\n      <path d=\"M 18.3125 70.21875 \r\nL 18.3125 54.6875 \r\nL 36.8125 54.6875 \r\nL 36.8125 47.703125 \r\nL 18.3125 47.703125 \r\nL 18.3125 18.015625 \r\nQ 18.3125 11.328125 20.140625 9.421875 \r\nQ 21.96875 7.515625 27.59375 7.515625 \r\nL 36.8125 7.515625 \r\nL 36.8125 0 \r\nL 27.59375 0 \r\nQ 17.1875 0 13.234375 3.875 \r\nQ 9.28125 7.765625 9.28125 18.015625 \r\nL 9.28125 47.703125 \r\nL 2.6875 47.703125 \r\nL 2.6875 54.6875 \r\nL 9.28125 54.6875 \r\nL 9.28125 70.21875 \r\nz\r\n\" id=\"DejaVuSans-116\"/>\r\n      <path d=\"M 56.203125 29.59375 \r\nL 56.203125 25.203125 \r\nL 14.890625 25.203125 \r\nQ 15.484375 15.921875 20.484375 11.0625 \r\nQ 25.484375 6.203125 34.421875 6.203125 \r\nQ 39.59375 6.203125 44.453125 7.46875 \r\nQ 49.3125 8.734375 54.109375 11.28125 \r\nL 54.109375 2.78125 \r\nQ 49.265625 0.734375 44.1875 -0.34375 \r\nQ 39.109375 -1.421875 33.890625 -1.421875 \r\nQ 20.796875 -1.421875 13.15625 6.1875 \r\nQ 5.515625 13.8125 5.515625 26.8125 \r\nQ 5.515625 40.234375 12.765625 48.109375 \r\nQ 20.015625 56 32.328125 56 \r\nQ 43.359375 56 49.78125 48.890625 \r\nQ 56.203125 41.796875 56.203125 29.59375 \r\nz\r\nM 47.21875 32.234375 \r\nQ 47.125 39.59375 43.09375 43.984375 \r\nQ 39.0625 48.390625 32.421875 48.390625 \r\nQ 24.90625 48.390625 20.390625 44.140625 \r\nQ 15.875 39.890625 15.1875 32.171875 \r\nz\r\n\" id=\"DejaVuSans-101\"/>\r\n      <path d=\"M 41.109375 46.296875 \r\nQ 39.59375 47.171875 37.8125 47.578125 \r\nQ 36.03125 48 33.890625 48 \r\nQ 26.265625 48 22.1875 43.046875 \r\nQ 18.109375 38.09375 18.109375 28.8125 \r\nL 18.109375 0 \r\nL 9.078125 0 \r\nL 9.078125 54.6875 \r\nL 18.109375 54.6875 \r\nL 18.109375 46.1875 \r\nQ 20.953125 51.171875 25.484375 53.578125 \r\nQ 30.03125 56 36.53125 56 \r\nQ 37.453125 56 38.578125 55.875 \r\nQ 39.703125 55.765625 41.0625 55.515625 \r\nz\r\n\" id=\"DejaVuSans-114\"/>\r\n      <path d=\"M 34.28125 27.484375 \r\nQ 23.390625 27.484375 19.1875 25 \r\nQ 14.984375 22.515625 14.984375 16.5 \r\nQ 14.984375 11.71875 18.140625 8.90625 \r\nQ 21.296875 6.109375 26.703125 6.109375 \r\nQ 34.1875 6.109375 38.703125 11.40625 \r\nQ 43.21875 16.703125 43.21875 25.484375 \r\nL 43.21875 27.484375 \r\nz\r\nM 52.203125 31.203125 \r\nL 52.203125 0 \r\nL 43.21875 0 \r\nL 43.21875 8.296875 \r\nQ 40.140625 3.328125 35.546875 0.953125 \r\nQ 30.953125 -1.421875 24.3125 -1.421875 \r\nQ 15.921875 -1.421875 10.953125 3.296875 \r\nQ 6 8.015625 6 15.921875 \r\nQ 6 25.140625 12.171875 29.828125 \r\nQ 18.359375 34.515625 30.609375 34.515625 \r\nL 43.21875 34.515625 \r\nL 43.21875 35.40625 \r\nQ 43.21875 41.609375 39.140625 45 \r\nQ 35.0625 48.390625 27.6875 48.390625 \r\nQ 23 48.390625 18.546875 47.265625 \r\nQ 14.109375 46.140625 10.015625 43.890625 \r\nL 10.015625 52.203125 \r\nQ 14.9375 54.109375 19.578125 55.046875 \r\nQ 24.21875 56 28.609375 56 \r\nQ 40.484375 56 46.34375 49.84375 \r\nQ 52.203125 43.703125 52.203125 31.203125 \r\nz\r\n\" id=\"DejaVuSans-97\"/>\r\n      <path d=\"M 30.609375 48.390625 \r\nQ 23.390625 48.390625 19.1875 42.75 \r\nQ 14.984375 37.109375 14.984375 27.296875 \r\nQ 14.984375 17.484375 19.15625 11.84375 \r\nQ 23.34375 6.203125 30.609375 6.203125 \r\nQ 37.796875 6.203125 41.984375 11.859375 \r\nQ 46.1875 17.53125 46.1875 27.296875 \r\nQ 46.1875 37.015625 41.984375 42.703125 \r\nQ 37.796875 48.390625 30.609375 48.390625 \r\nz\r\nM 30.609375 56 \r\nQ 42.328125 56 49.015625 48.375 \r\nQ 55.71875 40.765625 55.71875 27.296875 \r\nQ 55.71875 13.875 49.015625 6.21875 \r\nQ 42.328125 -1.421875 30.609375 -1.421875 \r\nQ 18.84375 -1.421875 12.171875 6.21875 \r\nQ 5.515625 13.875 5.515625 27.296875 \r\nQ 5.515625 40.765625 12.171875 48.375 \r\nQ 18.84375 56 30.609375 56 \r\nz\r\n\" id=\"DejaVuSans-111\"/>\r\n      <path d=\"M 54.890625 33.015625 \r\nL 54.890625 0 \r\nL 45.90625 0 \r\nL 45.90625 32.71875 \r\nQ 45.90625 40.484375 42.875 44.328125 \r\nQ 39.84375 48.1875 33.796875 48.1875 \r\nQ 26.515625 48.1875 22.3125 43.546875 \r\nQ 18.109375 38.921875 18.109375 30.90625 \r\nL 18.109375 0 \r\nL 9.078125 0 \r\nL 9.078125 54.6875 \r\nL 18.109375 54.6875 \r\nL 18.109375 46.1875 \r\nQ 21.34375 51.125 25.703125 53.5625 \r\nQ 30.078125 56 35.796875 56 \r\nQ 45.21875 56 50.046875 50.171875 \r\nQ 54.890625 44.34375 54.890625 33.015625 \r\nz\r\n\" id=\"DejaVuSans-110\"/>\r\n      <path d=\"M 44.28125 53.078125 \r\nL 44.28125 44.578125 \r\nQ 40.484375 46.53125 36.375 47.5 \r\nQ 32.28125 48.484375 27.875 48.484375 \r\nQ 21.1875 48.484375 17.84375 46.4375 \r\nQ 14.5 44.390625 14.5 40.28125 \r\nQ 14.5 37.15625 16.890625 35.375 \r\nQ 19.28125 33.59375 26.515625 31.984375 \r\nL 29.59375 31.296875 \r\nQ 39.15625 29.25 43.1875 25.515625 \r\nQ 47.21875 21.78125 47.21875 15.09375 \r\nQ 47.21875 7.46875 41.1875 3.015625 \r\nQ 35.15625 -1.421875 24.609375 -1.421875 \r\nQ 20.21875 -1.421875 15.453125 -0.5625 \r\nQ 10.6875 0.296875 5.421875 2 \r\nL 5.421875 11.28125 \r\nQ 10.40625 8.6875 15.234375 7.390625 \r\nQ 20.0625 6.109375 24.8125 6.109375 \r\nQ 31.15625 6.109375 34.5625 8.28125 \r\nQ 37.984375 10.453125 37.984375 14.40625 \r\nQ 37.984375 18.0625 35.515625 20.015625 \r\nQ 33.0625 21.96875 24.703125 23.78125 \r\nL 21.578125 24.515625 \r\nQ 13.234375 26.265625 9.515625 29.90625 \r\nQ 5.8125 33.546875 5.8125 39.890625 \r\nQ 5.8125 47.609375 11.28125 51.796875 \r\nQ 16.75 56 26.8125 56 \r\nQ 31.78125 56 36.171875 55.265625 \r\nQ 40.578125 54.546875 44.28125 53.078125 \r\nz\r\n\" id=\"DejaVuSans-115\"/>\r\n     </defs>\r\n     <g transform=\"translate(184.275781 252.916562)scale(0.1 -0.1)\">\r\n      <use xlink:href=\"#DejaVuSans-105\"/>\r\n      <use x=\"27.783203\" xlink:href=\"#DejaVuSans-116\"/>\r\n      <use x=\"66.992188\" xlink:href=\"#DejaVuSans-101\"/>\r\n      <use x=\"128.515625\" xlink:href=\"#DejaVuSans-114\"/>\r\n      <use x=\"169.628906\" xlink:href=\"#DejaVuSans-97\"/>\r\n      <use x=\"230.908203\" xlink:href=\"#DejaVuSans-116\"/>\r\n      <use x=\"270.117188\" xlink:href=\"#DejaVuSans-105\"/>\r\n      <use x=\"297.900391\" xlink:href=\"#DejaVuSans-111\"/>\r\n      <use x=\"359.082031\" xlink:href=\"#DejaVuSans-110\"/>\r\n      <use x=\"422.460938\" xlink:href=\"#DejaVuSans-115\"/>\r\n     </g>\r\n    </g>\r\n   </g>\r\n   <g id=\"matplotlib.axis_2\">\r\n    <g id=\"ytick_1\">\r\n     <g id=\"line2d_10\">\r\n      <defs>\r\n       <path d=\"M 0 0 \r\nL -3.5 0 \r\n\" id=\"m853d8a379b\" style=\"stroke:#000000;stroke-width:0.8;\"/>\r\n      </defs>\r\n      <g>\r\n       <use style=\"stroke:#000000;stroke-width:0.8;\" x=\"40.603125\" xlink:href=\"#m853d8a379b\" y=\"214.756364\"/>\r\n      </g>\r\n     </g>\r\n     <g id=\"text_11\">\r\n      <!-- 0 -->\r\n      <g transform=\"translate(27.240625 218.555582)scale(0.1 -0.1)\">\r\n       <use xlink:href=\"#DejaVuSans-48\"/>\r\n      </g>\r\n     </g>\r\n    </g>\r\n    <g id=\"ytick_2\">\r\n     <g id=\"line2d_11\">\r\n      <g>\r\n       <use style=\"stroke:#000000;stroke-width:0.8;\" x=\"40.603125\" xlink:href=\"#m853d8a379b\" y=\"175.689016\"/>\r\n      </g>\r\n     </g>\r\n     <g id=\"text_12\">\r\n      <!-- 2 -->\r\n      <g transform=\"translate(27.240625 179.488235)scale(0.1 -0.1)\">\r\n       <use xlink:href=\"#DejaVuSans-50\"/>\r\n      </g>\r\n     </g>\r\n    </g>\r\n    <g id=\"ytick_3\">\r\n     <g id=\"line2d_12\">\r\n      <g>\r\n       <use style=\"stroke:#000000;stroke-width:0.8;\" x=\"40.603125\" xlink:href=\"#m853d8a379b\" y=\"136.621669\"/>\r\n      </g>\r\n     </g>\r\n     <g id=\"text_13\">\r\n      <!-- 4 -->\r\n      <g transform=\"translate(27.240625 140.420888)scale(0.1 -0.1)\">\r\n       <use xlink:href=\"#DejaVuSans-52\"/>\r\n      </g>\r\n     </g>\r\n    </g>\r\n    <g id=\"ytick_4\">\r\n     <g id=\"line2d_13\">\r\n      <g>\r\n       <use style=\"stroke:#000000;stroke-width:0.8;\" x=\"40.603125\" xlink:href=\"#m853d8a379b\" y=\"97.554322\"/>\r\n      </g>\r\n     </g>\r\n     <g id=\"text_14\">\r\n      <!-- 6 -->\r\n      <defs>\r\n       <path d=\"M 33.015625 40.375 \r\nQ 26.375 40.375 22.484375 35.828125 \r\nQ 18.609375 31.296875 18.609375 23.390625 \r\nQ 18.609375 15.53125 22.484375 10.953125 \r\nQ 26.375 6.390625 33.015625 6.390625 \r\nQ 39.65625 6.390625 43.53125 10.953125 \r\nQ 47.40625 15.53125 47.40625 23.390625 \r\nQ 47.40625 31.296875 43.53125 35.828125 \r\nQ 39.65625 40.375 33.015625 40.375 \r\nz\r\nM 52.59375 71.296875 \r\nL 52.59375 62.3125 \r\nQ 48.875 64.0625 45.09375 64.984375 \r\nQ 41.3125 65.921875 37.59375 65.921875 \r\nQ 27.828125 65.921875 22.671875 59.328125 \r\nQ 17.53125 52.734375 16.796875 39.40625 \r\nQ 19.671875 43.65625 24.015625 45.921875 \r\nQ 28.375 48.1875 33.59375 48.1875 \r\nQ 44.578125 48.1875 50.953125 41.515625 \r\nQ 57.328125 34.859375 57.328125 23.390625 \r\nQ 57.328125 12.15625 50.6875 5.359375 \r\nQ 44.046875 -1.421875 33.015625 -1.421875 \r\nQ 20.359375 -1.421875 13.671875 8.265625 \r\nQ 6.984375 17.96875 6.984375 36.375 \r\nQ 6.984375 53.65625 15.1875 63.9375 \r\nQ 23.390625 74.21875 37.203125 74.21875 \r\nQ 40.921875 74.21875 44.703125 73.484375 \r\nQ 48.484375 72.75 52.59375 71.296875 \r\nz\r\n\" id=\"DejaVuSans-54\"/>\r\n      </defs>\r\n      <g transform=\"translate(27.240625 101.353541)scale(0.1 -0.1)\">\r\n       <use xlink:href=\"#DejaVuSans-54\"/>\r\n      </g>\r\n     </g>\r\n    </g>\r\n    <g id=\"ytick_5\">\r\n     <g id=\"line2d_14\">\r\n      <g>\r\n       <use style=\"stroke:#000000;stroke-width:0.8;\" x=\"40.603125\" xlink:href=\"#m853d8a379b\" y=\"58.486975\"/>\r\n      </g>\r\n     </g>\r\n     <g id=\"text_15\">\r\n      <!-- 8 -->\r\n      <defs>\r\n       <path d=\"M 31.78125 34.625 \r\nQ 24.75 34.625 20.71875 30.859375 \r\nQ 16.703125 27.09375 16.703125 20.515625 \r\nQ 16.703125 13.921875 20.71875 10.15625 \r\nQ 24.75 6.390625 31.78125 6.390625 \r\nQ 38.8125 6.390625 42.859375 10.171875 \r\nQ 46.921875 13.96875 46.921875 20.515625 \r\nQ 46.921875 27.09375 42.890625 30.859375 \r\nQ 38.875 34.625 31.78125 34.625 \r\nz\r\nM 21.921875 38.8125 \r\nQ 15.578125 40.375 12.03125 44.71875 \r\nQ 8.5 49.078125 8.5 55.328125 \r\nQ 8.5 64.0625 14.71875 69.140625 \r\nQ 20.953125 74.21875 31.78125 74.21875 \r\nQ 42.671875 74.21875 48.875 69.140625 \r\nQ 55.078125 64.0625 55.078125 55.328125 \r\nQ 55.078125 49.078125 51.53125 44.71875 \r\nQ 48 40.375 41.703125 38.8125 \r\nQ 48.828125 37.15625 52.796875 32.3125 \r\nQ 56.78125 27.484375 56.78125 20.515625 \r\nQ 56.78125 9.90625 50.3125 4.234375 \r\nQ 43.84375 -1.421875 31.78125 -1.421875 \r\nQ 19.734375 -1.421875 13.25 4.234375 \r\nQ 6.78125 9.90625 6.78125 20.515625 \r\nQ 6.78125 27.484375 10.78125 32.3125 \r\nQ 14.796875 37.15625 21.921875 38.8125 \r\nz\r\nM 18.3125 54.390625 \r\nQ 18.3125 48.734375 21.84375 45.5625 \r\nQ 25.390625 42.390625 31.78125 42.390625 \r\nQ 38.140625 42.390625 41.71875 45.5625 \r\nQ 45.3125 48.734375 45.3125 54.390625 \r\nQ 45.3125 60.0625 41.71875 63.234375 \r\nQ 38.140625 66.40625 31.78125 66.40625 \r\nQ 25.390625 66.40625 21.84375 63.234375 \r\nQ 18.3125 60.0625 18.3125 54.390625 \r\nz\r\n\" id=\"DejaVuSans-56\"/>\r\n      </defs>\r\n      <g transform=\"translate(27.240625 62.286193)scale(0.1 -0.1)\">\r\n       <use xlink:href=\"#DejaVuSans-56\"/>\r\n      </g>\r\n     </g>\r\n    </g>\r\n    <g id=\"ytick_6\">\r\n     <g id=\"line2d_15\">\r\n      <g>\r\n       <use style=\"stroke:#000000;stroke-width:0.8;\" x=\"40.603125\" xlink:href=\"#m853d8a379b\" y=\"19.419627\"/>\r\n      </g>\r\n     </g>\r\n     <g id=\"text_16\">\r\n      <!-- 10 -->\r\n      <g transform=\"translate(20.878125 23.218846)scale(0.1 -0.1)\">\r\n       <use xlink:href=\"#DejaVuSans-49\"/>\r\n       <use x=\"63.623047\" xlink:href=\"#DejaVuSans-48\"/>\r\n      </g>\r\n     </g>\r\n    </g>\r\n    <g id=\"text_17\">\r\n     <!-- loss -->\r\n     <defs>\r\n      <path d=\"M 9.421875 75.984375 \r\nL 18.40625 75.984375 \r\nL 18.40625 0 \r\nL 9.421875 0 \r\nz\r\n\" id=\"DejaVuSans-108\"/>\r\n     </defs>\r\n     <g transform=\"translate(14.798438 125.577812)rotate(-90)scale(0.1 -0.1)\">\r\n      <use xlink:href=\"#DejaVuSans-108\"/>\r\n      <use x=\"27.783203\" xlink:href=\"#DejaVuSans-111\"/>\r\n      <use x=\"88.964844\" xlink:href=\"#DejaVuSans-115\"/>\r\n      <use x=\"141.064453\" xlink:href=\"#DejaVuSans-115\"/>\r\n     </g>\r\n    </g>\r\n   </g>\r\n   <g id=\"line2d_16\">\r\n    <path clip-path=\"url(#p3dcf8c8545)\" d=\"M 55.821307 185.401185 \r\nL 56.049637 189.405901 \r\nL 56.125747 185.951597 \r\nL 56.201857 193.874298 \r\nL 56.277966 192.969078 \r\nL 56.430186 183.699687 \r\nL 56.582406 194.603856 \r\nL 56.658516 189.343934 \r\nL 56.734626 194.740233 \r\nL 56.810736 179.862604 \r\nL 56.962956 203.083485 \r\nL 57.039066 200.399912 \r\nL 57.115176 205.450465 \r\nL 57.191286 179.393583 \r\nL 57.267396 207.865491 \r\nL 57.343506 203.911655 \r\nL 57.495725 181.600272 \r\nL 57.571835 208.108938 \r\nL 57.724055 169.609259 \r\nL 57.876275 211.577981 \r\nL 57.952385 184.592359 \r\nL 58.028495 194.511048 \r\nL 58.180715 186.959767 \r\nL 58.256825 207.972807 \r\nL 58.332935 199.174406 \r\nL 58.409045 197.702923 \r\nL 58.485155 190.544332 \r\nL 58.561265 208.943761 \r\nL 58.637374 201.562463 \r\nL 58.713484 195.101268 \r\nL 58.789594 195.329228 \r\nL 58.865704 208.061538 \r\nL 58.941814 202.076264 \r\nL 59.017924 209.350027 \r\nL 59.246254 194.804297 \r\nL 59.322364 196.09492 \r\nL 59.398474 199.139182 \r\nL 59.474584 212.234147 \r\nL 59.550694 195.165306 \r\nL 59.626804 201.69208 \r\nL 59.702914 196.664974 \r\nL 60.083463 207.16324 \r\nL 60.159573 207.167528 \r\nL 60.235683 206.824831 \r\nL 60.311793 201.716358 \r\nL 60.540123 211.688479 \r\nL 60.616233 207.093329 \r\nL 60.692343 210.807851 \r\nL 60.768453 208.420072 \r\nL 60.844563 208.515425 \r\nL 60.920673 209.393431 \r\nL 60.996783 207.076359 \r\nL 61.072892 211.865204 \r\nL 61.149002 211.207368 \r\nL 61.225112 213.683579 \r\nL 61.453442 206.525418 \r\nL 61.605662 214.599175 \r\nL 61.757882 213.203749 \r\nL 61.833992 206.734733 \r\nL 61.986212 214.008555 \r\nL 62.062322 214.395717 \r\nL 62.138432 210.314746 \r\nL 62.214541 214.211631 \r\nL 62.290651 212.263665 \r\nL 62.366761 212.57245 \r\nL 62.518981 211.099043 \r\nL 62.595091 204.854678 \r\nL 62.671201 214.465993 \r\nL 62.747311 202.745177 \r\nL 62.823421 214.738709 \r\nL 62.899531 214.697762 \r\nL 62.975641 214.591519 \r\nL 63.051751 214.107658 \r\nL 63.127861 212.881777 \r\nL 63.280081 214.716727 \r\nL 63.4323 209.916532 \r\nL 63.58452 214.754578 \r\nL 63.73674 214.723212 \r\nL 63.81285 213.71748 \r\nL 63.88896 214.752501 \r\nL 63.96507 214.348486 \r\nL 64.04118 214.755607 \r\nL 64.11729 214.697054 \r\nL 64.26951 202.793108 \r\nL 64.34562 214.756303 \r\nL 64.42173 214.7461 \r\nL 64.49784 214.344071 \r\nL 64.650059 214.756364 \r\nL 64.802279 214.75635 \r\nL 64.878389 214.531309 \r\nL 64.954499 214.753884 \r\nL 65.030609 184.37848 \r\nL 65.182829 214.755595 \r\nL 65.258939 214.315527 \r\nL 65.335049 214.750746 \r\nL 65.411159 214.564667 \r\nL 65.487269 214.575951 \r\nL 65.563379 208.859451 \r\nL 65.639489 214.753604 \r\nL 65.715599 214.462816 \r\nL 65.867818 214.755833 \r\nL 65.943928 214.4457 \r\nL 66.096148 214.755658 \r\nL 66.172258 214.637247 \r\nL 66.248368 214.739684 \r\nL 66.324478 210.576821 \r\nL 66.400588 214.7558 \r\nL 66.476698 214.618068 \r\nL 66.628918 214.755758 \r\nL 66.781138 214.753232 \r\nL 66.857248 17.083636 \r\nL 66.933358 214.75227 \r\nL 67.009467 214.750638 \r\nL 67.085577 213.378906 \r\nL 67.161687 214.755765 \r\nL 67.237797 214.711617 \r\nL 67.466127 214.65858 \r\nL 67.542237 205.014162 \r\nL 67.618347 214.719479 \r\nL 67.694457 214.650951 \r\nL 67.770567 214.754666 \r\nL 67.846677 213.999411 \r\nL 67.998897 214.751996 \r\nL 68.075007 214.755991 \r\nL 68.151117 213.344909 \r\nL 68.227226 214.521745 \r\nL 68.303336 208.72854 \r\nL 68.455556 214.516612 \r\nL 68.531666 211.653282 \r\nL 68.683886 214.754689 \r\nL 68.912216 214.64761 \r\nL 68.988326 213.885735 \r\nL 69.064436 210.258423 \r\nL 69.216656 214.04639 \r\nL 69.368876 214.747915 \r\nL 69.444985 210.614549 \r\nL 69.597205 214.753774 \r\nL 69.673315 214.466051 \r\nL 69.749425 210.594473 \r\nL 69.901645 214.756291 \r\nL 70.358305 214.749544 \r\nL 70.434415 204.742421 \r\nL 70.510525 209.140761 \r\nL 70.586635 214.750569 \r\nL 70.662744 213.364496 \r\nL 70.738854 214.713681 \r\nL 70.891074 213.089303 \r\nL 70.967184 214.462942 \r\nL 71.043294 211.248578 \r\nL 71.195514 214.755979 \r\nL 71.271624 186.012625 \r\nL 71.423844 214.753393 \r\nL 71.499954 214.75103 \r\nL 71.576064 214.377734 \r\nL 71.652174 214.733271 \r\nL 71.728284 211.463415 \r\nL 71.880503 214.734662 \r\nL 72.108833 214.56564 \r\nL 72.184943 214.050055 \r\nL 72.261053 214.343396 \r\nL 72.337163 169.671027 \r\nL 72.489383 214.736823 \r\nL 72.641603 214.538094 \r\nL 72.793823 214.688865 \r\nL 72.869933 214.673984 \r\nL 72.946043 214.44878 \r\nL 73.022152 214.754422 \r\nL 73.098262 212.090667 \r\nL 73.174372 214.755299 \r\nL 73.250482 214.734313 \r\nL 73.326592 214.344584 \r\nL 73.402702 214.756245 \r\nL 73.478812 214.736785 \r\nL 74.011582 214.744454 \r\nL 74.087692 211.79675 \r\nL 74.239911 214.755334 \r\nL 74.316021 213.444922 \r\nL 74.392131 214.749714 \r\nL 74.468241 214.741915 \r\nL 74.544351 214.729615 \r\nL 74.620461 213.213806 \r\nL 74.696571 214.751127 \r\nL 74.772681 214.515111 \r\nL 74.848791 214.497429 \r\nL 75.001011 214.75567 \r\nL 75.077121 206.46307 \r\nL 75.153231 214.756317 \r\nL 75.229341 214.753178 \r\nL 75.45767 214.750133 \r\nL 75.53378 214.756364 \r\nL 75.60989 214.132298 \r\nL 75.686 214.756289 \r\nL 75.76211 214.665655 \r\nL 75.91433 214.714017 \r\nL 76.21877 214.75634 \r\nL 76.29488 214.639372 \r\nL 76.37099 214.756364 \r\nL 76.4471 214.672169 \r\nL 76.52321 214.755327 \r\nL 76.59932 214.622672 \r\nL 76.751539 214.707789 \r\nL 76.979869 214.755951 \r\nL 77.132089 214.756364 \r\nL 77.208199 214.211081 \r\nL 77.360419 214.754929 \r\nL 77.588749 214.693901 \r\nL 77.664859 212.640267 \r\nL 77.740969 214.756201 \r\nL 77.817078 214.390883 \r\nL 77.893188 214.735494 \r\nL 77.969298 214.453113 \r\nL 78.045408 214.756152 \r\nL 78.121518 214.724372 \r\nL 78.425958 214.755164 \r\nL 78.502068 212.601851 \r\nL 78.654288 214.744571 \r\nL 78.882618 214.756359 \r\nL 78.958728 206.773447 \r\nL 79.034837 214.756238 \r\nL 79.110947 214.753919 \r\nL 79.339277 214.756364 \r\nL 79.415387 211.851177 \r\nL 79.567607 214.756364 \r\nL 80.328706 214.75516 \r\nL 80.480926 208.466392 \r\nL 80.633146 214.756364 \r\nL 81.242026 214.756364 \r\nL 81.318136 208.38038 \r\nL 81.394246 214.753244 \r\nL 81.470355 214.742139 \r\nL 81.546465 214.756289 \r\nL 81.622575 208.61267 \r\nL 81.698685 214.756361 \r\nL 81.774795 214.74492 \r\nL 82.079235 214.756345 \r\nL 82.155345 214.606506 \r\nL 82.307565 214.755656 \r\nL 82.992554 214.755232 \r\nL 83.068664 214.257892 \r\nL 83.220884 214.75608 \r\nL 84.210313 214.756208 \r\nL 84.362533 213.561761 \r\nL 84.514753 214.756359 \r\nL 84.590863 214.756364 \r\nL 84.666973 213.556264 \r\nL 84.743083 213.79873 \r\nL 84.895303 214.756354 \r\nL 85.732512 214.754831 \r\nL 85.808622 213.022162 \r\nL 85.960842 214.756063 \r\nL 86.189172 214.754247 \r\nL 86.265281 195.393942 \r\nL 86.341391 214.755663 \r\nL 86.417501 214.753893 \r\nL 87.102491 214.752259 \r\nL 87.178601 214.660996 \r\nL 87.330821 214.756319 \r\nL 87.55915 214.751721 \r\nL 87.71137 214.756364 \r\nL 87.78748 214.542949 \r\nL 87.9397 214.756364 \r\nL 88.01581 214.472434 \r\nL 88.16803 214.740277 \r\nL 88.47247 214.736243 \r\nL 88.54858 210.79874 \r\nL 88.624689 214.754499 \r\nL 88.700799 211.93689 \r\nL 88.853019 214.755993 \r\nL 89.081349 214.755209 \r\nL 90.070778 214.749812 \r\nL 90.146888 214.473208 \r\nL 90.299108 214.752741 \r\nL 90.451328 214.755998 \r\nL 90.527438 211.801876 \r\nL 90.679658 214.756364 \r\nL 91.669087 214.756345 \r\nL 91.745197 213.957532 \r\nL 91.897417 214.756352 \r\nL 92.886846 214.712191 \r\nL 92.962956 213.701553 \r\nL 93.115176 214.756364 \r\nL 94.028495 214.755849 \r\nL 94.104605 211.786107 \r\nL 94.256825 214.756364 \r\nL 95.246254 214.756275 \r\nL 95.322364 214.337351 \r\nL 95.474584 214.756364 \r\nL 95.550694 214.756361 \r\nL 95.626804 214.401849 \r\nL 95.779024 214.756364 \r\nL 96.159573 214.756343 \r\nL 96.235683 212.690369 \r\nL 96.387903 214.756364 \r\nL 96.464013 212.794371 \r\nL 96.616233 214.756252 \r\nL 98.290651 214.75635 \r\nL 98.366761 209.345366 \r\nL 98.518981 214.756364 \r\nL 101.335049 214.756035 \r\nL 101.411159 211.386739 \r\nL 101.563379 214.756364 \r\nL 101.639489 213.297703 \r\nL 101.791709 214.756364 \r\nL 102.020038 214.756364 \r\nL 102.096148 214.443814 \r\nL 102.248368 214.748772 \r\nL 103.161687 214.738051 \r\nL 103.237797 214.346481 \r\nL 103.390017 214.756364 \r\nL 103.618347 214.711736 \r\nL 103.770567 212.427054 \r\nL 103.922787 214.756364 \r\nL 106.206085 214.738716 \r\nL 106.282195 214.499991 \r\nL 106.434415 214.756364 \r\nL 107.499954 214.756364 \r\nL 107.576064 214.618854 \r\nL 107.728284 214.756364 \r\nL 108.641603 214.756364 \r\nL 108.717713 213.784884 \r\nL 108.869933 214.756361 \r\nL 109.098262 214.755472 \r\nL 109.174372 193.736743 \r\nL 109.250482 214.756359 \r\nL 109.326592 214.750662 \r\nL 110.544351 214.756364 \r\nL 110.620461 167.307568 \r\nL 110.772681 214.756364 \r\nL 111.60989 214.756364 \r\nL 111.686 125.739454 \r\nL 111.76211 214.732859 \r\nL 111.83822 214.73185 \r\nL 112.21877 214.756361 \r\nL 112.59932 214.755896 \r\nL 112.675429 214.610141 \r\nL 112.827649 214.756252 \r\nL 113.436529 214.700947 \r\nL 113.512639 200.273773 \r\nL 113.664859 214.756364 \r\nL 114.958728 214.756364 \r\nL 115.034837 214.25523 \r\nL 115.187057 214.756364 \r\nL 115.263167 214.756364 \r\nL 115.339277 214.019183 \r\nL 115.491497 214.756345 \r\nL 115.567607 214.755225 \r\nL 115.643717 214.622258 \r\nL 115.719827 214.756364 \r\nL 115.795937 213.853084 \r\nL 115.948157 214.756082 \r\nL 116.480926 214.756361 \r\nL 116.557036 204.283836 \r\nL 116.633146 214.756354 \r\nL 116.709256 208.662356 \r\nL 116.861476 214.756364 \r\nL 117.013696 214.756345 \r\nL 117.089806 214.320222 \r\nL 117.165916 214.452036 \r\nL 117.242026 214.756364 \r\nL 117.318136 207.942522 \r\nL 117.470355 214.739165 \r\nL 118.003125 214.756336 \r\nL 118.383675 214.745055 \r\nL 118.459785 211.837299 \r\nL 118.612004 214.756364 \r\nL 120.438643 214.756364 \r\nL 120.514753 213.880968 \r\nL 120.666973 214.756364 \r\nL 121.047522 214.756364 \r\nL 121.123632 213.969719 \r\nL 121.275852 214.753502 \r\nL 123.48304 214.749612 \r\nL 123.55915 209.865819 \r\nL 123.71137 214.756303 \r\nL 126.299108 214.756364 \r\nL 126.375218 214.500509 \r\nL 126.527438 214.756364 \r\nL 127.060207 214.75014 \r\nL 127.136317 174.899068 \r\nL 127.288537 214.756364 \r\nL 130.713484 214.756364 \r\nL 130.789594 214.756268 \r\nL 130.865704 214.081946 \r\nL 131.017924 214.756364 \r\nL 131.779024 214.756364 \r\nL 131.855133 214.569923 \r\nL 132.007353 214.756364 \r\nL 132.235683 214.756364 \r\nL 132.311793 210.52386 \r\nL 132.464013 214.756315 \r\nL 132.692343 214.756042 \r\nL 132.768453 214.23743 \r\nL 132.920673 214.756364 \r\nL 133.225112 214.756347 \r\nL 133.301222 211.266672 \r\nL 133.453442 214.756319 \r\nL 133.529552 214.755914 \r\nL 133.605662 214.085751 \r\nL 133.757882 214.756364 \r\nL 136.26951 214.756364 \r\nL 136.34562 197.981032 \r\nL 136.49784 214.756364 \r\nL 136.650059 214.756352 \r\nL 136.726169 214.329715 \r\nL 136.878389 214.756364 \r\nL 138.172258 214.756364 \r\nL 138.248368 213.697181 \r\nL 138.400588 214.756364 \r\nL 138.857248 214.756364 \r\nL 138.933358 203.162766 \r\nL 139.085577 214.756364 \r\nL 149.893188 214.756364 \r\nL 149.969298 213.329212 \r\nL 150.121518 214.756345 \r\nL 150.882618 214.756364 \r\nL 150.958728 214.559365 \r\nL 151.110947 214.756364 \r\nL 151.187057 214.756361 \r\nL 151.263167 211.902786 \r\nL 151.415387 214.756364 \r\nL 152.100377 214.756364 \r\nL 152.176487 213.928029 \r\nL 152.328706 214.756354 \r\nL 154.535895 214.756028 \r\nL 154.612004 210.60247 \r\nL 154.764224 214.756345 \r\nL 155.449214 214.756364 \r\nL 155.525324 213.211757 \r\nL 155.677544 214.756364 \r\nL 161.690229 214.756364 \r\nL 161.766339 209.371018 \r\nL 161.918558 214.756357 \r\nL 167.170144 214.747031 \r\nL 167.246254 214.593623 \r\nL 167.398474 214.756361 \r\nL 167.855133 214.756364 \r\nL 167.931243 214.578496 \r\nL 168.083463 214.756354 \r\nL 179.880503 214.755768 \r\nL 179.956613 212.788604 \r\nL 180.108833 214.756364 \r\nL 182.392131 214.756364 \r\nL 182.468241 214.608361 \r\nL 182.620461 214.756147 \r\nL 184.06655 214.756361 \r\nL 184.14266 214.472173 \r\nL 184.21877 214.75618 \r\nL 184.29488 214.734734 \r\nL 184.751539 214.756364 \r\nL 193.732512 214.756364 \r\nL 193.808622 214.504287 \r\nL 193.884732 214.756364 \r\nL 193.960842 214.73318 \r\nL 194.265281 214.756364 \r\nL 194.341391 214.13193 \r\nL 194.493611 214.756364 \r\nL 200.354076 214.756364 \r\nL 200.430186 212.187452 \r\nL 200.506296 214.756364 \r\nL 200.582406 214.752031 \r\nL 202.561265 214.756154 \r\nL 204.692343 214.754554 \r\nL 204.768453 214.625179 \r\nL 204.920673 214.75604 \r\nL 206.823421 214.756364 \r\nL 206.899531 213.540995 \r\nL 207.051751 214.756238 \r\nL 209.943928 214.756364 \r\nL 210.020038 209.268763 \r\nL 210.172258 214.756364 \r\nL 213.901645 214.756364 \r\nL 213.977755 214.010325 \r\nL 214.129975 214.756042 \r\nL 218.239911 214.756364 \r\nL 218.316021 214.625755 \r\nL 218.468241 214.756245 \r\nL 233.461899 214.756364 \r\nL 233.538009 214.425716 \r\nL 233.690229 214.756364 \r\nL 242.975641 214.756364 \r\nL 243.051751 214.512723 \r\nL 243.203971 214.756364 \r\nL 254.316021 214.756364 \r\nL 254.392131 214.53733 \r\nL 254.544351 214.756364 \r\nL 255.001011 214.756364 \r\nL 255.077121 213.59117 \r\nL 255.229341 214.756364 \r\nL 261.774795 214.756364 \r\nL 261.850905 214.497827 \r\nL 262.003125 214.756364 \r\nL 262.383675 214.756364 \r\nL 272.049637 214.756364 \r\nL 272.125747 214.412247 \r\nL 272.277966 214.756007 \r\nL 272.734626 214.754492 \r\nL 277.301222 214.756364 \r\nL 289.326592 214.755141 \r\nL 289.402702 211.967112 \r\nL 289.554922 214.756364 \r\nL 298.155345 214.756364 \r\nL 298.231455 213.352601 \r\nL 298.383675 214.75516 \r\nL 301.199742 214.756364 \r\nL 301.275852 214.564225 \r\nL 301.428072 214.756364 \r\nL 301.808622 214.756364 \r\nL 301.884732 214.382074 \r\nL 302.036952 214.756364 \r\nL 343.136317 214.756364 \r\nL 343.212427 211.124603 \r\nL 343.364647 214.756364 \r\nL 343.897417 214.756364 \r\nL 343.973527 214.562915 \r\nL 344.125747 214.756364 \r\nL 360.184943 214.756361 \r\nL 360.184943 214.756361 \r\n\" style=\"fill:none;stroke:#1f77b4;stroke-linecap:square;stroke-width:1.5;\"/>\r\n   </g>\r\n   <g id=\"patch_3\">\r\n    <path d=\"M 40.603125 224.64 \r\nL 40.603125 7.2 \r\n\" style=\"fill:none;stroke:#000000;stroke-linecap:square;stroke-linejoin:miter;stroke-width:0.8;\"/>\r\n   </g>\r\n   <g id=\"patch_4\">\r\n    <path d=\"M 375.403125 224.64 \r\nL 375.403125 7.2 \r\n\" style=\"fill:none;stroke:#000000;stroke-linecap:square;stroke-linejoin:miter;stroke-width:0.8;\"/>\r\n   </g>\r\n   <g id=\"patch_5\">\r\n    <path d=\"M 40.603125 224.64 \r\nL 375.403125 224.64 \r\n\" style=\"fill:none;stroke:#000000;stroke-linecap:square;stroke-linejoin:miter;stroke-width:0.8;\"/>\r\n   </g>\r\n   <g id=\"patch_6\">\r\n    <path d=\"M 40.603125 7.2 \r\nL 375.403125 7.2 \r\n\" style=\"fill:none;stroke:#000000;stroke-linecap:square;stroke-linejoin:miter;stroke-width:0.8;\"/>\r\n   </g>\r\n  </g>\r\n </g>\r\n <defs>\r\n  <clipPath id=\"p3dcf8c8545\">\r\n   <rect height=\"217.44\" width=\"334.8\" x=\"40.603125\" y=\"7.2\"/>\r\n  </clipPath>\r\n </defs>\r\n</svg>\r\n",
      "image/png": "[encoded data removed]"
     },
     "metadata": {
      "needs_background": "light"
     }
    }
   ],
   "source": [
    "plt.plot(loss_tracker)                               \n",
    "plt.xlabel(\"iterations\")\n",
    "plt.ylabel(\"loss\")\n",
    "plt.show()"
   ]
  },
  {
   "cell_type": "code",
   "execution_count": 9,
   "metadata": {
    "tags": []
   },
   "outputs": [
    {
     "output_type": "display_data",
     "data": {
      "text/plain": "HBox(children=(FloatProgress(value=0.0, layout=Layout(flex='2')), HTML(value='')), layout=Layout(display='inli…",
      "application/vnd.jupyter.widget-view+json": {
       "version_major": 2,
       "version_minor": 0,
       "model_id": "d7a0acae4ee34c3dbcba36d09f52794f"
      }
     },
     "metadata": {}
    },
    {
     "output_type": "stream",
     "name": "stdout",
     "text": [
      "\n"
     ]
    }
   ],
   "source": [
    "correct=0 \n",
    "total_loss=[]\n",
    "    \n",
    "progress_bar = tqdm(test_loader, ncols=1000)\n",
    "\n",
    "  # We load a batch of images and their corresponding labels here and continue\n",
    "  # until we trained on all batches.\n",
    "with torch.no_grad():\n",
    "    for i, (images, labels) in enumerate(progress_bar):\n",
    "    # Convert torch tensor to a vector of size 784 in order to send it to input\n",
    "    # layer\n",
    "        images = Variable(images)\n",
    "        labels = Variable(labels)\n",
    "    \n",
    "        outputs = net(images)\n",
    "        pred = torch.argmax(outputs, dim=1) \n",
    "\n",
    "    \n",
    "        loss = criterion(outputs, labels)\n",
    "        total_loss.append(loss.item())\n",
    "    \n",
    "        correct+= torch.sum(pred==labels).float()\n",
    "\n"
   ]
  },
  {
   "cell_type": "code",
   "execution_count": 10,
   "metadata": {},
   "outputs": [
    {
     "output_type": "stream",
     "name": "stdout",
     "text": [
      "The recorded accuracies are:\n Accuracy: 1.0000\nLoss: 0.0001\n"
     ]
    }
   ],
   "source": [
    "    \n",
    "print(\"The recorded accuracies are:\\n Accuracy: {:.4f}\\nLoss: {:.4f}\".format(correct/len(test_set), sum(total_loss)/len(total_loss)))\n"
   ]
  },
  {
   "cell_type": "code",
   "execution_count": 11,
   "metadata": {},
   "outputs": [],
   "source": [
    "PATH=\"model_dict.pt\"\n",
    "torch.save(net.state_dict(), PATH)"
   ]
  },
  {
   "cell_type": "code",
   "execution_count": null,
   "metadata": {},
   "outputs": [],
   "source": []
  }
 ],
 "metadata": {
  "kernelspec": {
   "name": "python376jvsc74a57bd09077d01e7226f78a116d2f33a753bb80f066b4f9d1a7629e908d03a599f1d560",
   "display_name": "Python 3.7.6 64-bit ('base': conda)"
  },
  "language_info": {
   "codemirror_mode": {
    "name": "ipython",
    "version": 3
   },
   "file_extension": ".py",
   "mimetype": "text/x-python",
   "name": "python",
   "nbconvert_exporter": "python",
   "pygments_lexer": "ipython3",
   "version": "3.7.6"
  }
 },
 "nbformat": 4,
 "nbformat_minor": 4
}